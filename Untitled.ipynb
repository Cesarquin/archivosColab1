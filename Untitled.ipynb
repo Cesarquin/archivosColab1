{
 "cells": [
  {
   "cell_type": "markdown",
   "metadata": {},
   "source": [
    "# Ecuaciones latex:\n",
    "\n",
    "$$ \\sigma=\\sqrt{a^2+b^2}  $$\n",
    "$$ \\Delta$$\n",
    "$$ \\alpha $$\n",
    "$$ \\sum_0^\\infty(x) $$\n",
    "$$ \\begin{vmatrix}1&2\\\\3&4\\end{vmatrix} $$\n",
    "\n",
    "\\begin{equation*}\n",
    "\\left( \\sum_{k=1}^{n} x^k \\right) \\times \\sum_{k=0}^{\\infty} {x^{k+1}} \n",
    "\\end{equation*}\n",
    "## Video:\n",
    "[video](https://www.youtube.com/watch?v=p2I0Al8rhmk)"
   ]
  },
  {
   "cell_type": "code",
   "execution_count": 27,
   "metadata": {},
   "outputs": [
    {
     "name": "stdout",
     "output_type": "stream",
     "text": [
      "C:\\Users\\usuario\\Anaconda3\\Scripts\\jupyter.exe\n",
      "\n",
      "\n",
      "A continuación se muestran las carpetas del directorio HOME: \n",
      "\n",
      "\n",
      " El volumen de la unidad C es TI106275W0B\n",
      " El número de serie del volumen es: 8A64-F278\n",
      "\n",
      " Directorio de C:\\Users\\usuario\\Documents\\DOCUMENTOS\\Cesar\\CLASES\\UDEC\\2021 I\\Clases\\Electiva profesional\n",
      "\n",
      "10/03/2021  09:37 p.m.    <DIR>          .\n",
      "10/03/2021  09:37 p.m.    <DIR>          ..\n",
      "10/03/2021  04:09 p.m.    <DIR>          .ipynb_checkpoints\n",
      "02/03/2021  07:14 p.m.            93,127 547065_FU_IEL_622007951_901M E.docx\n",
      "02/03/2021  07:14 p.m.            80,954 547065_FU_IEL_622007951_901M E.pdf\n",
      "02/03/2021  07:11 p.m.    <DIR>          DS\n",
      "10/03/2021  03:52 p.m.             5,178 inicio1.ipynb\n",
      "10/03/2021  09:37 p.m.             5,642 Untitled.ipynb\n",
      "               4 archivos        184,901 bytes\n",
      "               4 dirs  27,203,768,320 bytes libres\n"
     ]
    }
   ],
   "source": [
    "!where jupyter \n",
    "# el iniciar con el caracter: '!', permite comandos de consola\n",
    "print(\"\\n\\nA continuación se muestran las carpetas del directorio HOME: \\n\\n\")\n",
    "!dir\n",
    "# es decir, desde aca se puede dar 'pip install paquete'"
   ]
  },
  {
   "cell_type": "markdown",
   "metadata": {},
   "source": [
    "$$ \\text{La Fórmula Cuadrática es }x = \\frac {-b \\pm \\sqrt {b^2 - 4ac}}{2a} $$\n",
    "\n",
    "$$ \\left( \\frac{a}{b} \\right) ^{2}$$\n",
    "\n",
    "La Fórmula Cuadrática es $ x = \\frac {-b \\pm \\sqrt {b^2 - 4ac}}{2a}$\n",
    "\n",
    "$$ a x^2 + b x + c = 0 $$\n",
    "\n",
    "$$ x_{1/2} = \\frac {-b \\pm \\sqrt {b^2 - 4ac}}{2a} $$\n",
    "\n",
    "$$ \\lim_{x \\to \\infty} \\left( \\frac{1}{x} \\right)$$\n",
    "\n",
    "$$ r_\\alpha \\cdot s_\\beta = \\left( r \\cdot s \\right)_{\\alpha + \\beta }$$\n",
    "\n",
    "$$ \\overline{AB}$$\n",
    "\n",
    "$$ \\int_{a}^{b} x dx$$\n",
    "\n",
    "$$ \\sum_{i=1}^{n} i^2$$\n",
    "\n",
    "$$\n",
    "\\frac{1}{2}\\\\\n",
    "e^{i \\pi}+1=0\\\\\n",
    "\\sqrt[n]{3^5}\n",
    "$$\n",
    "\n",
    "\n",
    "# Otros simbolos\n",
    "#### Ángulos:\n",
    "Angulo izq : $\\langle$\n",
    "\n",
    "Ángulo Der : $\\rangle$\n",
    "\n",
    "Ángulo entre dos vectores u y v\t: $\\langle \\vec{u},\\vec{v}\\rangle$\t\n",
    "\n",
    "$$ \\vec{AB} \\, \\cdot \\, \\vec{CD} =0  \\Rightarrow  \\vec{AB} \\, \\perp\\, \\vec{CD}$$\n",
    "\n",
    "### Conjuntos y lógica\n",
    "\n",
    "$$\\mathbb{N} \\subset \\mathbb{Z} \\subset \\mathbb{D} \\subset \\mathbb{Q} \\subset \\mathbb{R} \\subset \\mathbb{C}$$\n",
    "\n",
    "#### Operadores:\n",
    "\n",
    "![image](https://miro.medium.com/max/422/1*8qpYLNPmlvEoEMaoksfINA.png)\n",
    "\n",
    "![image](https://miro.medium.com/max/482/1*IgyFkP0Z9Dk6QQumL5sClQ.png)\n",
    "\n",
    "![image](https://miro.medium.com/max/429/1*ODvw1B-e_Kpgl4iQ93O86A.png)\n",
    "\n",
    "\n",
    "#### Función signo: \n",
    "$$\n",
    "sign(x) = \\left\\{\n",
    "    \\begin{array}\\\\\n",
    "        1 & \\mbox{if } \\ x \\in \\mathbf{N}^* \\\\\n",
    "        0 & \\mbox{if } \\ x = 0 \\\\\n",
    "        -1 & \\mbox{else.}\n",
    "    \\end{array}\n",
    "\\right.\n",
    "$$\n",
    "\n",
    "\n",
    "\n",
    "$$\n",
    " \\left.\n",
    "    \\begin{array} \\\\\n",
    "        \\alpha^2 = \\sqrt5 \\\\\n",
    "        \\alpha \\geq 0 \n",
    "    \\end{array}\n",
    "\\right \\}\\alpha = 5 \n",
    "$$\n",
    "\n",
    "#### Matrices:\n",
    "\n",
    "Sin paréntesis:\n",
    "\\begin{matrix}\n",
    "1 & 2 & 3\\\\\n",
    "a & b & c\n",
    "\\end{matrix}\n",
    "\n",
    "Paréntesis circular:\n",
    "\\begin{pmatrix}\n",
    "1 & 2 & 3\\\\\n",
    "a & b & c\n",
    "\\end{pmatrix}\n",
    "\n",
    "Corchetes:\n",
    "\\begin{Bmatrix}\n",
    "1 & 2 & 3\\\\\n",
    "a & b & c\n",
    "\\end{Bmatrix}\t\n",
    "\n",
    "Barras:\n",
    "\\begin{vmatrix}\n",
    "1 & 2 & 3\\\\\n",
    "a & b & c\n",
    "\\end{vmatrix}\n",
    "\n",
    "Doble barra:\n",
    "\\begin{Vmatrix}\n",
    "1 & 2 & 3\\\\\n",
    "a & b & c\n",
    "\\end{Vmatrix}\n",
    "\n"
   ]
  },
  {
   "cell_type": "code",
   "execution_count": 28,
   "metadata": {},
   "outputs": [
    {
     "name": "stdout",
     "output_type": "stream",
     "text": [
      "el mejor profesor\n",
      "['el mejor profesor', 'genial', 'guapo', 'pilo']\n",
      "Cesar es pilo\n",
      "Ingrese el número a revertir: 876\n",
      "21\n",
      "['el mejor profesor', 'genial', 'guapo', 'pilo', 'maravilloso']\n"
     ]
    }
   ],
   "source": [
    "def inver(b):\n",
    "    a=0\n",
    "    while b%10!=0:\n",
    "        c=b%10\n",
    "        b=int(b/10)\n",
    "        a+=c\n",
    "    \n",
    "    return a\n",
    "b=restica(8,3)\n",
    "caract=[\"genial\",\"guapo\",\"pilo\",\"el mejor profesor\"]\n",
    "print(caract[3])\n",
    "caract.sort()\n",
    "print(caract)\n",
    "var1=f\"Cesar es {caract[3]}\"\n",
    "print(var1)\n",
    "caract.append(\"maravilloso\")\n",
    "b=int(input(\"Ingrese el número a revertir: \"))\n",
    "print(inver(b))\n",
    "print(caract)\n"
   ]
  },
  {
   "cell_type": "code",
   "execution_count": 33,
   "metadata": {},
   "outputs": [
    {
     "name": "stdout",
     "output_type": "stream",
     "text": [
      "['Cesar', 'Augusto']\n"
     ]
    }
   ],
   "source": [
    "dic={\"nombre\":[\"Cesar\",\"Augusto\"],\"Apellido\":[\"Quintero\",\"Obando\"]}\n",
    "print(dic[\"nombre\"])\n"
   ]
  },
  {
   "cell_type": "code",
   "execution_count": null,
   "metadata": {},
   "outputs": [],
   "source": []
  }
 ],
 "metadata": {
  "kernelspec": {
   "display_name": "Python 3",
   "language": "python",
   "name": "python3"
  },
  "language_info": {
   "codemirror_mode": {
    "name": "ipython",
    "version": 3
   },
   "file_extension": ".py",
   "mimetype": "text/x-python",
   "name": "python",
   "nbconvert_exporter": "python",
   "pygments_lexer": "ipython3",
   "version": "3.7.4"
  }
 },
 "nbformat": 4,
 "nbformat_minor": 4
}
