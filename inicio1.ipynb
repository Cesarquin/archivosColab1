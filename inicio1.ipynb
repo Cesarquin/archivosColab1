{
 "cells": [
  {
   "cell_type": "markdown",
   "metadata": {},
   "source": [
    "# PRIMERA CLASE DE JUPYTER NOTEBOOK\n",
    "## UNIVERSIDAD DE CUNDINAMARCA\n",
    "###### (Clase de martes 9 de marzo)\n",
    "\n",
    "Se realiza una introducción a la instalación de jupyter y python y se prueban algunos comandos básicos.\n",
    "\n",
    "![imagen](https://jupyter.org/assets/main-logo.svg)\n",
    "\n",
    "##### **TEMAS:**\n",
    "- función print\n",
    "- Tipos de variables\n",
    "- Ingreso de datos\n",
    "- función IF\n",
    "- función WHILE\n",
    "- función FOR\n"
   ]
  },
  {
   "cell_type": "code",
   "execution_count": 2,
   "metadata": {},
   "outputs": [
    {
     "name": "stdout",
     "output_type": "stream",
     "text": [
      "Cesar\n",
      "soy genial!!!\n",
      "clase magistral...\n",
      "hola \n",
      "<class 'str'>\n",
      "<class 'int'>\n",
      "<class 'float'>\n",
      "Cesar es genial\n"
     ]
    }
   ],
   "source": [
    "print('Cesar') #imprime mi nombre.\n",
    "'Cesar'        # cadena de caracteres.\n",
    "print(\"soy genial!!!\") \n",
    "print('''clase magistral...''')\n",
    "print(\"\"\"hola \"\"\")\n",
    "print(type('Cesar'))\n",
    "print(type(30))\n",
    "print(type(3.1416))\n",
    "print(\"Cesar\"+\" es genial\")"
   ]
  },
  {
   "cell_type": "code",
   "execution_count": 35,
   "metadata": {},
   "outputs": [
    {
     "name": "stdout",
     "output_type": "stream",
     "text": [
      "Cesar\n",
      "<class 'float'>\n",
      "10 Cesar\n",
      "2.7172 Cesar es genial!!!\n",
      "11.7172\n"
     ]
    }
   ],
   "source": [
    "a='Cesar'\n",
    "print(a)\n",
    "num=10+3.1416\n",
    "print(type(num))\n",
    "x,y=10,3.14\n",
    "print(x,a)\n",
    "z,var1=2.7172,\"Cesar es genial!!!\"\n",
    "print(str(z)+\" \"+var1)\n",
    "var2=\"9\"\n",
    "print(z+int(var2))"
   ]
  },
  {
   "cell_type": "code",
   "execution_count": 40,
   "metadata": {},
   "outputs": [
    {
     "name": "stdout",
     "output_type": "stream",
     "text": [
      "Cesar es genial!!!\n",
      "CESAR ES GENIAL!!!\n",
      "cesar es genial!!!\n",
      "Cesar es genial!!!\n"
     ]
    }
   ],
   "source": [
    "print(var1)\n",
    "print(var1.upper())\n",
    "print(var1.lower())\n",
    "print(var1.replace(\"genial\",\"Maravishooso...\"))\n"
   ]
  },
  {
   "cell_type": "code",
   "execution_count": 44,
   "metadata": {},
   "outputs": [
    {
     "name": "stdout",
     "output_type": "stream",
     "text": [
      "sepan todos que Cesar es genial!!!\n"
     ]
    }
   ],
   "source": [
    "print(f\"sepan todos que {var1}\")"
   ]
  },
  {
   "cell_type": "code",
   "execution_count": 50,
   "metadata": {},
   "outputs": [
    {
     "name": "stdout",
     "output_type": "stream",
     "text": [
      "Ingrese un número sogeroz: 3\n",
      "6\n",
      "Ingrese caracter: t\n",
      "el caracter est\n"
     ]
    }
   ],
   "source": [
    "var3=input(\"Ingrese un número sogeroz: \")\n",
    "print(int(var3)+3)\n",
    "var4=input(\"Ingrese caracter: \")\n",
    "print(\"el caracter es \"+var4)"
   ]
  },
  {
   "cell_type": "code",
   "execution_count": 53,
   "metadata": {},
   "outputs": [
    {
     "name": "stdout",
     "output_type": "stream",
     "text": [
      "Ingrese año de nacimiento: 1999\n",
      "Su edad es: 22\n"
     ]
    }
   ],
   "source": [
    "anio=2021\n",
    "nacim=int(input(\"Ingrese año de nacimiento: \"))\n",
    "print(\"Su edad es: \"+str(anio-nacim))"
   ]
  },
  {
   "cell_type": "code",
   "execution_count": 55,
   "metadata": {},
   "outputs": [
    {
     "name": "stdout",
     "output_type": "stream",
     "text": [
      "Ingrese año de nacimiento: 2015\n",
      "Todavia puede cometer delitos.\n"
     ]
    }
   ],
   "source": [
    "anio=2021\n",
    "nacim=int(input(\"Ingrese año de nacimiento: \"))\n",
    "edad=anio-nacim\n",
    "if edad>=18:\n",
    "    print(\"Ya puede ir a la carcel.\")\n",
    "else:\n",
    "    print(\"Todavia puede cometer delitos.\")\n"
   ]
  },
  {
   "cell_type": "code",
   "execution_count": 59,
   "metadata": {},
   "outputs": [
    {
     "name": "stdout",
     "output_type": "stream",
     "text": [
      "0\n",
      "1\n",
      "2\n",
      "3\n"
     ]
    }
   ],
   "source": [
    "x=0\n",
    "while x<=3:\n",
    "    print(x)\n",
    "    x+=1"
   ]
  },
  {
   "cell_type": "code",
   "execution_count": 63,
   "metadata": {},
   "outputs": [
    {
     "name": "stdout",
     "output_type": "stream",
     "text": [
      "0\n",
      "1\n",
      "2\n",
      "3\n"
     ]
    }
   ],
   "source": [
    "x=1 #  x=[0, 1, 2, 3]\n",
    "for x in range(4):\n",
    "    print(x)"
   ]
  }
 ],
 "metadata": {
  "kernelspec": {
   "display_name": "Python 3",
   "language": "python",
   "name": "python3"
  },
  "language_info": {
   "codemirror_mode": {
    "name": "ipython",
    "version": 3
   },
   "file_extension": ".py",
   "mimetype": "text/x-python",
   "name": "python",
   "nbconvert_exporter": "python",
   "pygments_lexer": "ipython3",
   "version": "3.7.4"
  }
 },
 "nbformat": 4,
 "nbformat_minor": 4
}
