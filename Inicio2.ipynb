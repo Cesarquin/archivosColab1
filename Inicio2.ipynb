{
 "cells": [
  {
   "cell_type": "markdown",
   "metadata": {},
   "source": [
    "# CLASE DEL DÍA 16 DE MARZO 2021.\n",
    "\n",
    "#### Tarea: \n",
    "\n",
    "\n",
    "\n"
   ]
  },
  {
   "cell_type": "code",
   "execution_count": 3,
   "metadata": {},
   "outputs": [
    {
     "name": "stdout",
     "output_type": "stream",
     "text": [
      "ingrese valor: 123\n",
      "6\n"
     ]
    }
   ],
   "source": [
    "# Tarea:\n",
    "a=int(input(\"ingrese valor: \"))\n",
    "#Algoritmo Horner\n",
    "c=0\n",
    "while b!=0:\n",
    "    b=a%10  # residuo  12345/10  -> res: b=5\n",
    "    a=int(a/10) # a=1234\n",
    "    c+=b   #c=5\n",
    "print(c)"
   ]
  },
  {
   "cell_type": "markdown",
   "metadata": {},
   "source": [
    "### Código Markdown:\n",
    "\n",
    "Este es mi cuaderno de apuntes:\n",
    "\n",
    "Vamos a definir ecuaciones utilizando **Latex**:\n",
    "\n",
    "$$ \\sqrt{2} \\alpha $$\n",
    "$$ \\sum_{n=0}^{\\infty} {x^n} $$\n",
    "\n",
    "La forma de realizar tablas en Markdown es: \n",
    "\n",
    "\n",
    "| Item 1 | Item 2 | Item 3 |\\\n",
    "|-------|-------|-------|\\\n",
    "| Dato 1 | Dato 2 | Dato 3 |\n",
    "\n",
    "\n",
    "| Item 1 | Item 2 | Item 3 |\n",
    "|-------|-------|-------|\n",
    "| Dato 1 | Dato 2 | Dato 3 |\n",
    "| Dato 4 | Dato 5 | Dato 6 |\n",
    "\n",
    "\n",
    "##### Direccionamiento a paginas:\n",
    "La forma de direccionar paginas es:\n",
    "\n",
    "$[Referencia](https://towardsdatascience.com/write-markdown-latex-in-the-jupyter-notebook-10985edb91fd)$\n",
    "\n",
    "[Referencia](https://towardsdatascience.com/write-markdown-latex-in-the-jupyter-notebook-10985edb91fd)\n",
    "\n",
    "Vamos a adicionar una imagen:\n",
    "![Imagen](https://miro.medium.com/max/118/1*61TURcXZU6xJA68LsFC8UA.png)\n",
    "\n"
   ]
  },
  {
   "cell_type": "code",
   "execution_count": null,
   "metadata": {},
   "outputs": [],
   "source": []
  },
  {
   "cell_type": "code",
   "execution_count": null,
   "metadata": {},
   "outputs": [],
   "source": []
  },
  {
   "cell_type": "code",
   "execution_count": null,
   "metadata": {},
   "outputs": [],
   "source": []
  }
 ],
 "metadata": {
  "kernelspec": {
   "display_name": "Python 3",
   "language": "python",
   "name": "python3"
  },
  "language_info": {
   "codemirror_mode": {
    "name": "ipython",
    "version": 3
   },
   "file_extension": ".py",
   "mimetype": "text/x-python",
   "name": "python",
   "nbconvert_exporter": "python",
   "pygments_lexer": "ipython3",
   "version": "3.7.4"
  }
 },
 "nbformat": 4,
 "nbformat_minor": 4
}
