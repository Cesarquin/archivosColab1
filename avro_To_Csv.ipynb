{
  "nbformat": 4,
  "nbformat_minor": 0,
  "metadata": {
    "colab": {
      "provenance": [],
      "toc_visible": true
    },
    "kernelspec": {
      "name": "python3",
      "display_name": "Python 3"
    },
    "language_info": {
      "name": "python"
    }
  },
  "cells": [
    {
      "cell_type": "code",
      "source": [
        "# Paso 1: Instala las bibliotecas necesarias\n",
        "!pip install fastavro pandas\n",
        "\n",
        "# Paso 2: Importa las bibliotecas necesarias\n",
        "import pandas as pd\n",
        "import fastavro\n",
        "import json\n",
        "\n",
        "# Paso 3: Función para leer archivo Avro y convertirlo a DataFrame\n",
        "def avro_to_dataframe(file_path):\n",
        "    with open(file_path, 'rb') as f:\n",
        "        reader = fastavro.reader(f)\n",
        "        records = [record for record in reader]\n",
        "    return pd.DataFrame(records)\n",
        "\n",
        "# Paso 4: Carga el archivo Avro (sube el archivo manualmente en Colab)\n",
        "from google.colab import files\n",
        "uploaded = files.upload()\n",
        "\n",
        "# Paso 5: Convierte el archivo Avro a DataFrame\n",
        "file_path = list(uploaded.keys())[0]\n",
        "df = avro_to_dataframe(file_path)\n",
        "\n",
        "# Paso 6: Guarda el DataFrame como CSV\n",
        "csv_file_path = file_path.replace('.avro', '.csv')\n",
        "df.to_csv(csv_file_path, index=False)\n",
        "\n",
        "# Paso 7: Descarga el archivo CSV\n",
        "files.download(csv_file_path)\n"
      ],
      "metadata": {
        "colab": {
          "base_uri": "https://localhost:8080/",
          "height": 779
        },
        "id": "cRx5PULHIJAg",
        "outputId": "60153547-8372-4ebc-ce31-1a8d0d84328d"
      },
      "execution_count": null,
      "outputs": [
        {
          "output_type": "stream",
          "name": "stdout",
          "text": [
            "Collecting fastavro\n",
            "  Downloading fastavro-1.9.4-cp310-cp310-manylinux_2_17_x86_64.manylinux2014_x86_64.whl (3.1 MB)\n",
            "\u001b[2K     \u001b[90m━━━━━━━━━━━━━━━━━━━━━━━━━━━━━━━━━━━━━━━━\u001b[0m \u001b[32m3.1/3.1 MB\u001b[0m \u001b[31m11.3 MB/s\u001b[0m eta \u001b[36m0:00:00\u001b[0m\n",
            "\u001b[?25hRequirement already satisfied: pandas in /usr/local/lib/python3.10/dist-packages (2.0.3)\n",
            "Requirement already satisfied: python-dateutil>=2.8.2 in /usr/local/lib/python3.10/dist-packages (from pandas) (2.8.2)\n",
            "Requirement already satisfied: pytz>=2020.1 in /usr/local/lib/python3.10/dist-packages (from pandas) (2023.4)\n",
            "Requirement already satisfied: tzdata>=2022.1 in /usr/local/lib/python3.10/dist-packages (from pandas) (2024.1)\n",
            "Requirement already satisfied: numpy>=1.21.0 in /usr/local/lib/python3.10/dist-packages (from pandas) (1.25.2)\n",
            "Requirement already satisfied: six>=1.5 in /usr/local/lib/python3.10/dist-packages (from python-dateutil>=2.8.2->pandas) (1.16.0)\n",
            "Installing collected packages: fastavro\n",
            "Successfully installed fastavro-1.9.4\n"
          ]
        },
        {
          "output_type": "display_data",
          "data": {
            "text/plain": [
              "<IPython.core.display.HTML object>"
            ],
            "text/html": [
              "\n",
              "     <input type=\"file\" id=\"files-d500a45b-bb2e-42fc-ab89-681f6bce28a6\" name=\"files[]\" multiple disabled\n",
              "        style=\"border:none\" />\n",
              "     <output id=\"result-d500a45b-bb2e-42fc-ab89-681f6bce28a6\">\n",
              "      Upload widget is only available when the cell has been executed in the\n",
              "      current browser session. Please rerun this cell to enable.\n",
              "      </output>\n",
              "      <script>// Copyright 2017 Google LLC\n",
              "//\n",
              "// Licensed under the Apache License, Version 2.0 (the \"License\");\n",
              "// you may not use this file except in compliance with the License.\n",
              "// You may obtain a copy of the License at\n",
              "//\n",
              "//      http://www.apache.org/licenses/LICENSE-2.0\n",
              "//\n",
              "// Unless required by applicable law or agreed to in writing, software\n",
              "// distributed under the License is distributed on an \"AS IS\" BASIS,\n",
              "// WITHOUT WARRANTIES OR CONDITIONS OF ANY KIND, either express or implied.\n",
              "// See the License for the specific language governing permissions and\n",
              "// limitations under the License.\n",
              "\n",
              "/**\n",
              " * @fileoverview Helpers for google.colab Python module.\n",
              " */\n",
              "(function(scope) {\n",
              "function span(text, styleAttributes = {}) {\n",
              "  const element = document.createElement('span');\n",
              "  element.textContent = text;\n",
              "  for (const key of Object.keys(styleAttributes)) {\n",
              "    element.style[key] = styleAttributes[key];\n",
              "  }\n",
              "  return element;\n",
              "}\n",
              "\n",
              "// Max number of bytes which will be uploaded at a time.\n",
              "const MAX_PAYLOAD_SIZE = 100 * 1024;\n",
              "\n",
              "function _uploadFiles(inputId, outputId) {\n",
              "  const steps = uploadFilesStep(inputId, outputId);\n",
              "  const outputElement = document.getElementById(outputId);\n",
              "  // Cache steps on the outputElement to make it available for the next call\n",
              "  // to uploadFilesContinue from Python.\n",
              "  outputElement.steps = steps;\n",
              "\n",
              "  return _uploadFilesContinue(outputId);\n",
              "}\n",
              "\n",
              "// This is roughly an async generator (not supported in the browser yet),\n",
              "// where there are multiple asynchronous steps and the Python side is going\n",
              "// to poll for completion of each step.\n",
              "// This uses a Promise to block the python side on completion of each step,\n",
              "// then passes the result of the previous step as the input to the next step.\n",
              "function _uploadFilesContinue(outputId) {\n",
              "  const outputElement = document.getElementById(outputId);\n",
              "  const steps = outputElement.steps;\n",
              "\n",
              "  const next = steps.next(outputElement.lastPromiseValue);\n",
              "  return Promise.resolve(next.value.promise).then((value) => {\n",
              "    // Cache the last promise value to make it available to the next\n",
              "    // step of the generator.\n",
              "    outputElement.lastPromiseValue = value;\n",
              "    return next.value.response;\n",
              "  });\n",
              "}\n",
              "\n",
              "/**\n",
              " * Generator function which is called between each async step of the upload\n",
              " * process.\n",
              " * @param {string} inputId Element ID of the input file picker element.\n",
              " * @param {string} outputId Element ID of the output display.\n",
              " * @return {!Iterable<!Object>} Iterable of next steps.\n",
              " */\n",
              "function* uploadFilesStep(inputId, outputId) {\n",
              "  const inputElement = document.getElementById(inputId);\n",
              "  inputElement.disabled = false;\n",
              "\n",
              "  const outputElement = document.getElementById(outputId);\n",
              "  outputElement.innerHTML = '';\n",
              "\n",
              "  const pickedPromise = new Promise((resolve) => {\n",
              "    inputElement.addEventListener('change', (e) => {\n",
              "      resolve(e.target.files);\n",
              "    });\n",
              "  });\n",
              "\n",
              "  const cancel = document.createElement('button');\n",
              "  inputElement.parentElement.appendChild(cancel);\n",
              "  cancel.textContent = 'Cancel upload';\n",
              "  const cancelPromise = new Promise((resolve) => {\n",
              "    cancel.onclick = () => {\n",
              "      resolve(null);\n",
              "    };\n",
              "  });\n",
              "\n",
              "  // Wait for the user to pick the files.\n",
              "  const files = yield {\n",
              "    promise: Promise.race([pickedPromise, cancelPromise]),\n",
              "    response: {\n",
              "      action: 'starting',\n",
              "    }\n",
              "  };\n",
              "\n",
              "  cancel.remove();\n",
              "\n",
              "  // Disable the input element since further picks are not allowed.\n",
              "  inputElement.disabled = true;\n",
              "\n",
              "  if (!files) {\n",
              "    return {\n",
              "      response: {\n",
              "        action: 'complete',\n",
              "      }\n",
              "    };\n",
              "  }\n",
              "\n",
              "  for (const file of files) {\n",
              "    const li = document.createElement('li');\n",
              "    li.append(span(file.name, {fontWeight: 'bold'}));\n",
              "    li.append(span(\n",
              "        `(${file.type || 'n/a'}) - ${file.size} bytes, ` +\n",
              "        `last modified: ${\n",
              "            file.lastModifiedDate ? file.lastModifiedDate.toLocaleDateString() :\n",
              "                                    'n/a'} - `));\n",
              "    const percent = span('0% done');\n",
              "    li.appendChild(percent);\n",
              "\n",
              "    outputElement.appendChild(li);\n",
              "\n",
              "    const fileDataPromise = new Promise((resolve) => {\n",
              "      const reader = new FileReader();\n",
              "      reader.onload = (e) => {\n",
              "        resolve(e.target.result);\n",
              "      };\n",
              "      reader.readAsArrayBuffer(file);\n",
              "    });\n",
              "    // Wait for the data to be ready.\n",
              "    let fileData = yield {\n",
              "      promise: fileDataPromise,\n",
              "      response: {\n",
              "        action: 'continue',\n",
              "      }\n",
              "    };\n",
              "\n",
              "    // Use a chunked sending to avoid message size limits. See b/62115660.\n",
              "    let position = 0;\n",
              "    do {\n",
              "      const length = Math.min(fileData.byteLength - position, MAX_PAYLOAD_SIZE);\n",
              "      const chunk = new Uint8Array(fileData, position, length);\n",
              "      position += length;\n",
              "\n",
              "      const base64 = btoa(String.fromCharCode.apply(null, chunk));\n",
              "      yield {\n",
              "        response: {\n",
              "          action: 'append',\n",
              "          file: file.name,\n",
              "          data: base64,\n",
              "        },\n",
              "      };\n",
              "\n",
              "      let percentDone = fileData.byteLength === 0 ?\n",
              "          100 :\n",
              "          Math.round((position / fileData.byteLength) * 100);\n",
              "      percent.textContent = `${percentDone}% done`;\n",
              "\n",
              "    } while (position < fileData.byteLength);\n",
              "  }\n",
              "\n",
              "  // All done.\n",
              "  yield {\n",
              "    response: {\n",
              "      action: 'complete',\n",
              "    }\n",
              "  };\n",
              "}\n",
              "\n",
              "scope.google = scope.google || {};\n",
              "scope.google.colab = scope.google.colab || {};\n",
              "scope.google.colab._files = {\n",
              "  _uploadFiles,\n",
              "  _uploadFilesContinue,\n",
              "};\n",
              "})(self);\n",
              "</script> "
            ]
          },
          "metadata": {}
        },
        {
          "output_type": "error",
          "ename": "KeyboardInterrupt",
          "evalue": "",
          "traceback": [
            "\u001b[0;31m---------------------------------------------------------------------------\u001b[0m",
            "\u001b[0;31mAgain\u001b[0m                                     Traceback (most recent call last)",
            "\u001b[0;32m/usr/local/lib/python3.10/dist-packages/jupyter_client/session.py\u001b[0m in \u001b[0;36mrecv\u001b[0;34m(self, socket, mode, content, copy)\u001b[0m\n\u001b[1;32m    808\u001b[0m         \u001b[0;32mtry\u001b[0m\u001b[0;34m:\u001b[0m\u001b[0;34m\u001b[0m\u001b[0;34m\u001b[0m\u001b[0m\n\u001b[0;32m--> 809\u001b[0;31m             \u001b[0mmsg_list\u001b[0m \u001b[0;34m=\u001b[0m \u001b[0msocket\u001b[0m\u001b[0;34m.\u001b[0m\u001b[0mrecv_multipart\u001b[0m\u001b[0;34m(\u001b[0m\u001b[0mmode\u001b[0m\u001b[0;34m,\u001b[0m \u001b[0mcopy\u001b[0m\u001b[0;34m=\u001b[0m\u001b[0mcopy\u001b[0m\u001b[0;34m)\u001b[0m\u001b[0;34m\u001b[0m\u001b[0;34m\u001b[0m\u001b[0m\n\u001b[0m\u001b[1;32m    810\u001b[0m         \u001b[0;32mexcept\u001b[0m \u001b[0mzmq\u001b[0m\u001b[0;34m.\u001b[0m\u001b[0mZMQError\u001b[0m \u001b[0;32mas\u001b[0m \u001b[0me\u001b[0m\u001b[0;34m:\u001b[0m\u001b[0;34m\u001b[0m\u001b[0;34m\u001b[0m\u001b[0m\n",
            "\u001b[0;32m/usr/local/lib/python3.10/dist-packages/zmq/sugar/socket.py\u001b[0m in \u001b[0;36mrecv_multipart\u001b[0;34m(self, flags, copy, track)\u001b[0m\n\u001b[1;32m    728\u001b[0m         \"\"\"\n\u001b[0;32m--> 729\u001b[0;31m         \u001b[0mparts\u001b[0m \u001b[0;34m=\u001b[0m \u001b[0;34m[\u001b[0m\u001b[0mself\u001b[0m\u001b[0;34m.\u001b[0m\u001b[0mrecv\u001b[0m\u001b[0;34m(\u001b[0m\u001b[0mflags\u001b[0m\u001b[0;34m,\u001b[0m \u001b[0mcopy\u001b[0m\u001b[0;34m=\u001b[0m\u001b[0mcopy\u001b[0m\u001b[0;34m,\u001b[0m \u001b[0mtrack\u001b[0m\u001b[0;34m=\u001b[0m\u001b[0mtrack\u001b[0m\u001b[0;34m)\u001b[0m\u001b[0;34m]\u001b[0m\u001b[0;34m\u001b[0m\u001b[0;34m\u001b[0m\u001b[0m\n\u001b[0m\u001b[1;32m    730\u001b[0m         \u001b[0;31m# have first part already, only loop while more to receive\u001b[0m\u001b[0;34m\u001b[0m\u001b[0;34m\u001b[0m\u001b[0m\n",
            "\u001b[0;32mzmq/backend/cython/socket.pyx\u001b[0m in \u001b[0;36mzmq.backend.cython.socket.Socket.recv\u001b[0;34m()\u001b[0m\n",
            "\u001b[0;32mzmq/backend/cython/socket.pyx\u001b[0m in \u001b[0;36mzmq.backend.cython.socket.Socket.recv\u001b[0;34m()\u001b[0m\n",
            "\u001b[0;32mzmq/backend/cython/socket.pyx\u001b[0m in \u001b[0;36mzmq.backend.cython.socket._recv_copy\u001b[0;34m()\u001b[0m\n",
            "\u001b[0;32mzmq/backend/cython/socket.pyx\u001b[0m in \u001b[0;36mzmq.backend.cython.socket._recv_copy\u001b[0;34m()\u001b[0m\n",
            "\u001b[0;32m/usr/local/lib/python3.10/dist-packages/zmq/backend/cython/checkrc.pxd\u001b[0m in \u001b[0;36mzmq.backend.cython.checkrc._check_rc\u001b[0;34m()\u001b[0m\n",
            "\u001b[0;31mAgain\u001b[0m: Resource temporarily unavailable",
            "\nDuring handling of the above exception, another exception occurred:\n",
            "\u001b[0;31mKeyboardInterrupt\u001b[0m                         Traceback (most recent call last)",
            "\u001b[0;32m<ipython-input-2-b071e9ffd672>\u001b[0m in \u001b[0;36m<cell line: 18>\u001b[0;34m()\u001b[0m\n\u001b[1;32m     16\u001b[0m \u001b[0;31m# Paso 4: Carga el archivo Avro (sube el archivo manualmente en Colab)\u001b[0m\u001b[0;34m\u001b[0m\u001b[0;34m\u001b[0m\u001b[0m\n\u001b[1;32m     17\u001b[0m \u001b[0;32mfrom\u001b[0m \u001b[0mgoogle\u001b[0m\u001b[0;34m.\u001b[0m\u001b[0mcolab\u001b[0m \u001b[0;32mimport\u001b[0m \u001b[0mfiles\u001b[0m\u001b[0;34m\u001b[0m\u001b[0;34m\u001b[0m\u001b[0m\n\u001b[0;32m---> 18\u001b[0;31m \u001b[0muploaded\u001b[0m \u001b[0;34m=\u001b[0m \u001b[0mfiles\u001b[0m\u001b[0;34m.\u001b[0m\u001b[0mupload\u001b[0m\u001b[0;34m(\u001b[0m\u001b[0;34m)\u001b[0m\u001b[0;34m\u001b[0m\u001b[0;34m\u001b[0m\u001b[0m\n\u001b[0m\u001b[1;32m     19\u001b[0m \u001b[0;34m\u001b[0m\u001b[0m\n\u001b[1;32m     20\u001b[0m \u001b[0;31m# Paso 5: Convierte el archivo Avro a DataFrame\u001b[0m\u001b[0;34m\u001b[0m\u001b[0;34m\u001b[0m\u001b[0m\n",
            "\u001b[0;32m/usr/local/lib/python3.10/dist-packages/google/colab/files.py\u001b[0m in \u001b[0;36mupload\u001b[0;34m()\u001b[0m\n\u001b[1;32m     67\u001b[0m   \"\"\"\n\u001b[1;32m     68\u001b[0m \u001b[0;34m\u001b[0m\u001b[0m\n\u001b[0;32m---> 69\u001b[0;31m   \u001b[0muploaded_files\u001b[0m \u001b[0;34m=\u001b[0m \u001b[0m_upload_files\u001b[0m\u001b[0;34m(\u001b[0m\u001b[0mmultiple\u001b[0m\u001b[0;34m=\u001b[0m\u001b[0;32mTrue\u001b[0m\u001b[0;34m)\u001b[0m\u001b[0;34m\u001b[0m\u001b[0;34m\u001b[0m\u001b[0m\n\u001b[0m\u001b[1;32m     70\u001b[0m   \u001b[0;31m# Mapping from original filename to filename as saved locally.\u001b[0m\u001b[0;34m\u001b[0m\u001b[0;34m\u001b[0m\u001b[0m\n\u001b[1;32m     71\u001b[0m   \u001b[0mlocal_filenames\u001b[0m \u001b[0;34m=\u001b[0m \u001b[0mdict\u001b[0m\u001b[0;34m(\u001b[0m\u001b[0;34m)\u001b[0m\u001b[0;34m\u001b[0m\u001b[0;34m\u001b[0m\u001b[0m\n",
            "\u001b[0;32m/usr/local/lib/python3.10/dist-packages/google/colab/files.py\u001b[0m in \u001b[0;36m_upload_files\u001b[0;34m(multiple)\u001b[0m\n\u001b[1;32m    154\u001b[0m \u001b[0;34m\u001b[0m\u001b[0m\n\u001b[1;32m    155\u001b[0m   \u001b[0;31m# First result is always an indication that the file picker has completed.\u001b[0m\u001b[0;34m\u001b[0m\u001b[0;34m\u001b[0m\u001b[0m\n\u001b[0;32m--> 156\u001b[0;31m   result = _output.eval_js(\n\u001b[0m\u001b[1;32m    157\u001b[0m       'google.colab._files._uploadFiles(\"{input_id}\", \"{output_id}\")'.format(\n\u001b[1;32m    158\u001b[0m           \u001b[0minput_id\u001b[0m\u001b[0;34m=\u001b[0m\u001b[0minput_id\u001b[0m\u001b[0;34m,\u001b[0m \u001b[0moutput_id\u001b[0m\u001b[0;34m=\u001b[0m\u001b[0moutput_id\u001b[0m\u001b[0;34m\u001b[0m\u001b[0;34m\u001b[0m\u001b[0m\n",
            "\u001b[0;32m/usr/local/lib/python3.10/dist-packages/google/colab/output/_js.py\u001b[0m in \u001b[0;36meval_js\u001b[0;34m(script, ignore_result, timeout_sec)\u001b[0m\n\u001b[1;32m     38\u001b[0m   \u001b[0;32mif\u001b[0m \u001b[0mignore_result\u001b[0m\u001b[0;34m:\u001b[0m\u001b[0;34m\u001b[0m\u001b[0;34m\u001b[0m\u001b[0m\n\u001b[1;32m     39\u001b[0m     \u001b[0;32mreturn\u001b[0m\u001b[0;34m\u001b[0m\u001b[0;34m\u001b[0m\u001b[0m\n\u001b[0;32m---> 40\u001b[0;31m   \u001b[0;32mreturn\u001b[0m \u001b[0m_message\u001b[0m\u001b[0;34m.\u001b[0m\u001b[0mread_reply_from_input\u001b[0m\u001b[0;34m(\u001b[0m\u001b[0mrequest_id\u001b[0m\u001b[0;34m,\u001b[0m \u001b[0mtimeout_sec\u001b[0m\u001b[0;34m)\u001b[0m\u001b[0;34m\u001b[0m\u001b[0;34m\u001b[0m\u001b[0m\n\u001b[0m\u001b[1;32m     41\u001b[0m \u001b[0;34m\u001b[0m\u001b[0m\n\u001b[1;32m     42\u001b[0m \u001b[0;34m\u001b[0m\u001b[0m\n",
            "\u001b[0;32m/usr/local/lib/python3.10/dist-packages/google/colab/_message.py\u001b[0m in \u001b[0;36mread_reply_from_input\u001b[0;34m(message_id, timeout_sec)\u001b[0m\n\u001b[1;32m     92\u001b[0m     \u001b[0mdeadline\u001b[0m \u001b[0;34m=\u001b[0m \u001b[0mtime\u001b[0m\u001b[0;34m.\u001b[0m\u001b[0mtime\u001b[0m\u001b[0;34m(\u001b[0m\u001b[0;34m)\u001b[0m \u001b[0;34m+\u001b[0m \u001b[0mtimeout_sec\u001b[0m\u001b[0;34m\u001b[0m\u001b[0;34m\u001b[0m\u001b[0m\n\u001b[1;32m     93\u001b[0m   \u001b[0;32mwhile\u001b[0m \u001b[0;32mnot\u001b[0m \u001b[0mdeadline\u001b[0m \u001b[0;32mor\u001b[0m \u001b[0mtime\u001b[0m\u001b[0;34m.\u001b[0m\u001b[0mtime\u001b[0m\u001b[0;34m(\u001b[0m\u001b[0;34m)\u001b[0m \u001b[0;34m<\u001b[0m \u001b[0mdeadline\u001b[0m\u001b[0;34m:\u001b[0m\u001b[0;34m\u001b[0m\u001b[0;34m\u001b[0m\u001b[0m\n\u001b[0;32m---> 94\u001b[0;31m     \u001b[0mreply\u001b[0m \u001b[0;34m=\u001b[0m \u001b[0m_read_next_input_message\u001b[0m\u001b[0;34m(\u001b[0m\u001b[0;34m)\u001b[0m\u001b[0;34m\u001b[0m\u001b[0;34m\u001b[0m\u001b[0m\n\u001b[0m\u001b[1;32m     95\u001b[0m     \u001b[0;32mif\u001b[0m \u001b[0mreply\u001b[0m \u001b[0;34m==\u001b[0m \u001b[0m_NOT_READY\u001b[0m \u001b[0;32mor\u001b[0m \u001b[0;32mnot\u001b[0m \u001b[0misinstance\u001b[0m\u001b[0;34m(\u001b[0m\u001b[0mreply\u001b[0m\u001b[0;34m,\u001b[0m \u001b[0mdict\u001b[0m\u001b[0;34m)\u001b[0m\u001b[0;34m:\u001b[0m\u001b[0;34m\u001b[0m\u001b[0;34m\u001b[0m\u001b[0m\n\u001b[1;32m     96\u001b[0m       \u001b[0mtime\u001b[0m\u001b[0;34m.\u001b[0m\u001b[0msleep\u001b[0m\u001b[0;34m(\u001b[0m\u001b[0;36m0.025\u001b[0m\u001b[0;34m)\u001b[0m\u001b[0;34m\u001b[0m\u001b[0;34m\u001b[0m\u001b[0m\n",
            "\u001b[0;32m/usr/local/lib/python3.10/dist-packages/google/colab/_message.py\u001b[0m in \u001b[0;36m_read_next_input_message\u001b[0;34m()\u001b[0m\n\u001b[1;32m     38\u001b[0m   \u001b[0mreply\u001b[0m \u001b[0;34m=\u001b[0m \u001b[0;32mNone\u001b[0m\u001b[0;34m\u001b[0m\u001b[0;34m\u001b[0m\u001b[0m\n\u001b[1;32m     39\u001b[0m   \u001b[0;32mtry\u001b[0m\u001b[0;34m:\u001b[0m\u001b[0;34m\u001b[0m\u001b[0;34m\u001b[0m\u001b[0m\n\u001b[0;32m---> 40\u001b[0;31m     \u001b[0m_\u001b[0m\u001b[0;34m,\u001b[0m \u001b[0mreply\u001b[0m \u001b[0;34m=\u001b[0m \u001b[0mkernel\u001b[0m\u001b[0;34m.\u001b[0m\u001b[0msession\u001b[0m\u001b[0;34m.\u001b[0m\u001b[0mrecv\u001b[0m\u001b[0;34m(\u001b[0m\u001b[0mstdin_socket\u001b[0m\u001b[0;34m,\u001b[0m \u001b[0mzmq\u001b[0m\u001b[0;34m.\u001b[0m\u001b[0mNOBLOCK\u001b[0m\u001b[0;34m)\u001b[0m\u001b[0;34m\u001b[0m\u001b[0;34m\u001b[0m\u001b[0m\n\u001b[0m\u001b[1;32m     41\u001b[0m   \u001b[0;32mexcept\u001b[0m \u001b[0mException\u001b[0m\u001b[0;34m:\u001b[0m  \u001b[0;31m# pylint: disable=broad-except\u001b[0m\u001b[0;34m\u001b[0m\u001b[0;34m\u001b[0m\u001b[0m\n\u001b[1;32m     42\u001b[0m     \u001b[0;31m# We treat invalid messages as empty replies.\u001b[0m\u001b[0;34m\u001b[0m\u001b[0;34m\u001b[0m\u001b[0m\n",
            "\u001b[0;32m/usr/local/lib/python3.10/dist-packages/jupyter_client/session.py\u001b[0m in \u001b[0;36mrecv\u001b[0;34m(self, socket, mode, content, copy)\u001b[0m\n\u001b[1;32m    807\u001b[0m             \u001b[0msocket\u001b[0m \u001b[0;34m=\u001b[0m \u001b[0msocket\u001b[0m\u001b[0;34m.\u001b[0m\u001b[0msocket\u001b[0m\u001b[0;34m\u001b[0m\u001b[0;34m\u001b[0m\u001b[0m\n\u001b[1;32m    808\u001b[0m         \u001b[0;32mtry\u001b[0m\u001b[0;34m:\u001b[0m\u001b[0;34m\u001b[0m\u001b[0;34m\u001b[0m\u001b[0m\n\u001b[0;32m--> 809\u001b[0;31m             \u001b[0mmsg_list\u001b[0m \u001b[0;34m=\u001b[0m \u001b[0msocket\u001b[0m\u001b[0;34m.\u001b[0m\u001b[0mrecv_multipart\u001b[0m\u001b[0;34m(\u001b[0m\u001b[0mmode\u001b[0m\u001b[0;34m,\u001b[0m \u001b[0mcopy\u001b[0m\u001b[0;34m=\u001b[0m\u001b[0mcopy\u001b[0m\u001b[0;34m)\u001b[0m\u001b[0;34m\u001b[0m\u001b[0;34m\u001b[0m\u001b[0m\n\u001b[0m\u001b[1;32m    810\u001b[0m         \u001b[0;32mexcept\u001b[0m \u001b[0mzmq\u001b[0m\u001b[0;34m.\u001b[0m\u001b[0mZMQError\u001b[0m \u001b[0;32mas\u001b[0m \u001b[0me\u001b[0m\u001b[0;34m:\u001b[0m\u001b[0;34m\u001b[0m\u001b[0;34m\u001b[0m\u001b[0m\n\u001b[1;32m    811\u001b[0m             \u001b[0;32mif\u001b[0m \u001b[0me\u001b[0m\u001b[0;34m.\u001b[0m\u001b[0merrno\u001b[0m \u001b[0;34m==\u001b[0m \u001b[0mzmq\u001b[0m\u001b[0;34m.\u001b[0m\u001b[0mEAGAIN\u001b[0m\u001b[0;34m:\u001b[0m\u001b[0;34m\u001b[0m\u001b[0;34m\u001b[0m\u001b[0m\n",
            "\u001b[0;31mKeyboardInterrupt\u001b[0m: "
          ]
        }
      ]
    },
    {
      "cell_type": "markdown",
      "source": [
        "# No es AVRO:"
      ],
      "metadata": {
        "id": "fdyWfrFnF5CB"
      }
    },
    {
      "cell_type": "code",
      "source": [
        "import pandas as pd\n"
      ],
      "metadata": {
        "id": "UzGp4BNPJZRe"
      },
      "execution_count": null,
      "outputs": []
    },
    {
      "cell_type": "code",
      "source": [
        "archivo = '/content/p'\n",
        "df1 = pd.read_csv('/content/p1.csv')\n",
        "for i in range(2, 21):\n",
        "  df = pd.read_csv(archivo + str(i) + '.csv')\n",
        "  df1 = pd.concat([df1, df], axis=0)"
      ],
      "metadata": {
        "id": "Q1Uj88UVGMiK"
      },
      "execution_count": null,
      "outputs": []
    },
    {
      "cell_type": "code",
      "source": [
        "df1"
      ],
      "metadata": {
        "id": "sddnJrsOGNfQ"
      },
      "execution_count": null,
      "outputs": []
    },
    {
      "cell_type": "code",
      "source": [
        "for i in range(21, 85):\n",
        "  df = pd.read_csv(archivo + str(i) + '.csv')\n",
        "  df1 = pd.concat([df1, df], axis=0)"
      ],
      "metadata": {
        "id": "cfUSaAz2GNgr"
      },
      "execution_count": null,
      "outputs": []
    },
    {
      "cell_type": "code",
      "source": [
        "df1"
      ],
      "metadata": {
        "id": "bWU9gw5FGNlE"
      },
      "execution_count": null,
      "outputs": []
    },
    {
      "cell_type": "code",
      "source": [
        "df1.to_csv('p.csv', index=False)"
      ],
      "metadata": {
        "id": "ia6O4kfnGNmi"
      },
      "execution_count": null,
      "outputs": []
    },
    {
      "cell_type": "markdown",
      "source": [
        "# **TFM Jun 17**"
      ],
      "metadata": {
        "id": "MI42gA02fhFW"
      }
    },
    {
      "cell_type": "code",
      "source": [
        "import pandas as pd\n",
        "import numpy as np\n",
        "import matplotlib.pyplot as plt\n",
        "import seaborn as sns"
      ],
      "metadata": {
        "id": "UfYBCg9RRyjZ"
      },
      "execution_count": null,
      "outputs": []
    },
    {
      "cell_type": "markdown",
      "source": [
        "## Descarga de datos"
      ],
      "metadata": {
        "id": "LBQp6l3l7plS"
      }
    },
    {
      "cell_type": "code",
      "source": [
        "df = pd.read_csv('/content/bigx_users_sakai.csv')\n",
        "df"
      ],
      "metadata": {
        "colab": {
          "base_uri": "https://localhost:8080/",
          "height": 791
        },
        "id": "jXlNDjcBfmKt",
        "outputId": "4193d6d4-3fa5-42d6-9011-20f7294fa1f4"
      },
      "execution_count": null,
      "outputs": [
        {
          "output_type": "execute_result",
          "data": {
            "text/plain": [
              "      tasignaturas  marca_abandono  \\\n",
              "0                9               0   \n",
              "1                4               0   \n",
              "2                2               0   \n",
              "3                9               0   \n",
              "4                9               0   \n",
              "...            ...             ...   \n",
              "4006             8               0   \n",
              "4007             7               0   \n",
              "4008             7               0   \n",
              "4009             7               0   \n",
              "4010             5               0   \n",
              "\n",
              "                                                 key_id  \\\n",
              "0     PER1520-416-283_1470aabe-2784-4aeb-b92b-a4df36...   \n",
              "1     PER1520-416-283_1d1ff527-d0dd-46bb-80e8-0e0415...   \n",
              "2     PER1520-416-283_224ea337-1a8a-4939-92e9-b89441...   \n",
              "3     PER1520-416-283_337303e9-49d5-49c6-b62b-44d84a...   \n",
              "4     PER1520-416-283_362a0895-a707-4155-ae77-86f371...   \n",
              "...                                                 ...   \n",
              "4006  PER3561-379-379__379_b56dc7d5-094d-40b6-90ce-1...   \n",
              "4007  PER3561-379-379__379_bee9a0ee-081f-4356-bcca-6...   \n",
              "4008  PER3561-379-379__379_cb4aa675-ebdf-4391-962e-d...   \n",
              "4009  PER3561-379-379__379_e4ac35f7-e080-4654-9b9f-f...   \n",
              "4010  PER3561-379-379__379_f0ba298b-8fce-4e5a-a458-a...   \n",
              "\n",
              "      tcursos_events_peranalisis  tcursos_events_sum2s  tcursos_events_prom2s  \\\n",
              "0                            7.0                  12.0                    6.0   \n",
              "1                            7.0                  14.0                    7.0   \n",
              "2                            NaN                   NaN                    NaN   \n",
              "3                            6.0                  11.0                    5.5   \n",
              "4                            6.0                  12.0                    6.0   \n",
              "...                          ...                   ...                    ...   \n",
              "4006                         7.0                  14.0                    7.0   \n",
              "4007                         5.0                  12.0                    6.0   \n",
              "4008                         7.0                  13.0                    6.5   \n",
              "4009                         6.0                  12.0                    6.0   \n",
              "4010                         3.0                   7.0                    3.5   \n",
              "\n",
              "      tcursos_events_diff2s  tcursos_events_var2s  tcursos_events_max2s  \\\n",
              "0                       2.0                 0.400                   7.0   \n",
              "1                       0.0                 0.000                   7.0   \n",
              "2                       NaN                   NaN                   NaN   \n",
              "3                       1.0                 0.200                   6.0   \n",
              "4                       0.0                 0.000                   6.0   \n",
              "...                     ...                   ...                   ...   \n",
              "4006                    0.0                 0.000                   7.0   \n",
              "4007                   -2.0                -0.286                   7.0   \n",
              "4008                    1.0                 0.167                   7.0   \n",
              "4009                    0.0                 0.000                   6.0   \n",
              "4010                   -1.0                -0.250                   4.0   \n",
              "\n",
              "      tcursos_events_min2s  ...  tt_login_sem3  tt_login_median3s  \\\n",
              "0                      5.0  ...           73.0               73.0   \n",
              "1                      7.0  ...           36.0               30.0   \n",
              "2                      NaN  ...           32.0               47.0   \n",
              "3                      5.0  ...           12.0                8.0   \n",
              "4                      6.0  ...           49.0               47.0   \n",
              "...                    ...  ...            ...                ...   \n",
              "4006                   7.0  ...           14.0               37.0   \n",
              "4007                   5.0  ...           17.0               37.0   \n",
              "4008                   6.0  ...           11.0               11.0   \n",
              "4009                   6.0  ...           20.0               31.0   \n",
              "4010                   3.0  ...            0.0               54.5   \n",
              "\n",
              "      tt_login_sum4s  tt_login_prom4s  tt_login_diff4s  tt_login_var4s  \\\n",
              "0              347.0            86.75             37.0           0.430   \n",
              "1              119.0            29.75            -17.0          -0.486   \n",
              "2              164.0            41.00             21.0           0.656   \n",
              "3               27.0             6.75              3.0           1.500   \n",
              "4              159.0            39.75            -15.0          -0.385   \n",
              "...              ...              ...              ...             ...   \n",
              "4006           150.0            37.50             34.0          11.333   \n",
              "4007           102.0            25.50             48.0             NaN   \n",
              "4008            34.0             8.50              4.0           1.000   \n",
              "4009           113.0            28.25             10.0           0.476   \n",
              "4010           111.0            27.75             39.0          19.500   \n",
              "\n",
              "      tt_login_max4s  tt_login_min4s  tt_login_sem4  tt_login_median4s  \n",
              "0              123.0            65.0           86.0               79.5  \n",
              "1               36.0            18.0           35.0               32.5  \n",
              "2               53.0            32.0           32.0               39.5  \n",
              "3               12.0             2.0            2.0                6.5  \n",
              "4               49.0            24.0           39.0               43.0  \n",
              "...              ...             ...            ...                ...  \n",
              "4006            96.0             3.0            3.0               25.5  \n",
              "4007            48.0             0.0            0.0               37.0  \n",
              "4008            11.0             4.0            4.0                9.5  \n",
              "4009            41.0            20.0           21.0               26.0  \n",
              "4010            68.0             0.0            2.0               41.0  \n",
              "\n",
              "[4011 rows x 1553 columns]"
            ],
            "text/html": [
              "\n",
              "  <div id=\"df-7db6830f-daf7-4eab-93c8-257dfe85b45f\" class=\"colab-df-container\">\n",
              "    <div>\n",
              "<style scoped>\n",
              "    .dataframe tbody tr th:only-of-type {\n",
              "        vertical-align: middle;\n",
              "    }\n",
              "\n",
              "    .dataframe tbody tr th {\n",
              "        vertical-align: top;\n",
              "    }\n",
              "\n",
              "    .dataframe thead th {\n",
              "        text-align: right;\n",
              "    }\n",
              "</style>\n",
              "<table border=\"1\" class=\"dataframe\">\n",
              "  <thead>\n",
              "    <tr style=\"text-align: right;\">\n",
              "      <th></th>\n",
              "      <th>tasignaturas</th>\n",
              "      <th>marca_abandono</th>\n",
              "      <th>key_id</th>\n",
              "      <th>tcursos_events_peranalisis</th>\n",
              "      <th>tcursos_events_sum2s</th>\n",
              "      <th>tcursos_events_prom2s</th>\n",
              "      <th>tcursos_events_diff2s</th>\n",
              "      <th>tcursos_events_var2s</th>\n",
              "      <th>tcursos_events_max2s</th>\n",
              "      <th>tcursos_events_min2s</th>\n",
              "      <th>...</th>\n",
              "      <th>tt_login_sem3</th>\n",
              "      <th>tt_login_median3s</th>\n",
              "      <th>tt_login_sum4s</th>\n",
              "      <th>tt_login_prom4s</th>\n",
              "      <th>tt_login_diff4s</th>\n",
              "      <th>tt_login_var4s</th>\n",
              "      <th>tt_login_max4s</th>\n",
              "      <th>tt_login_min4s</th>\n",
              "      <th>tt_login_sem4</th>\n",
              "      <th>tt_login_median4s</th>\n",
              "    </tr>\n",
              "  </thead>\n",
              "  <tbody>\n",
              "    <tr>\n",
              "      <th>0</th>\n",
              "      <td>9</td>\n",
              "      <td>0</td>\n",
              "      <td>PER1520-416-283_1470aabe-2784-4aeb-b92b-a4df36...</td>\n",
              "      <td>7.0</td>\n",
              "      <td>12.0</td>\n",
              "      <td>6.0</td>\n",
              "      <td>2.0</td>\n",
              "      <td>0.400</td>\n",
              "      <td>7.0</td>\n",
              "      <td>5.0</td>\n",
              "      <td>...</td>\n",
              "      <td>73.0</td>\n",
              "      <td>73.0</td>\n",
              "      <td>347.0</td>\n",
              "      <td>86.75</td>\n",
              "      <td>37.0</td>\n",
              "      <td>0.430</td>\n",
              "      <td>123.0</td>\n",
              "      <td>65.0</td>\n",
              "      <td>86.0</td>\n",
              "      <td>79.5</td>\n",
              "    </tr>\n",
              "    <tr>\n",
              "      <th>1</th>\n",
              "      <td>4</td>\n",
              "      <td>0</td>\n",
              "      <td>PER1520-416-283_1d1ff527-d0dd-46bb-80e8-0e0415...</td>\n",
              "      <td>7.0</td>\n",
              "      <td>14.0</td>\n",
              "      <td>7.0</td>\n",
              "      <td>0.0</td>\n",
              "      <td>0.000</td>\n",
              "      <td>7.0</td>\n",
              "      <td>7.0</td>\n",
              "      <td>...</td>\n",
              "      <td>36.0</td>\n",
              "      <td>30.0</td>\n",
              "      <td>119.0</td>\n",
              "      <td>29.75</td>\n",
              "      <td>-17.0</td>\n",
              "      <td>-0.486</td>\n",
              "      <td>36.0</td>\n",
              "      <td>18.0</td>\n",
              "      <td>35.0</td>\n",
              "      <td>32.5</td>\n",
              "    </tr>\n",
              "    <tr>\n",
              "      <th>2</th>\n",
              "      <td>2</td>\n",
              "      <td>0</td>\n",
              "      <td>PER1520-416-283_224ea337-1a8a-4939-92e9-b89441...</td>\n",
              "      <td>NaN</td>\n",
              "      <td>NaN</td>\n",
              "      <td>NaN</td>\n",
              "      <td>NaN</td>\n",
              "      <td>NaN</td>\n",
              "      <td>NaN</td>\n",
              "      <td>NaN</td>\n",
              "      <td>...</td>\n",
              "      <td>32.0</td>\n",
              "      <td>47.0</td>\n",
              "      <td>164.0</td>\n",
              "      <td>41.00</td>\n",
              "      <td>21.0</td>\n",
              "      <td>0.656</td>\n",
              "      <td>53.0</td>\n",
              "      <td>32.0</td>\n",
              "      <td>32.0</td>\n",
              "      <td>39.5</td>\n",
              "    </tr>\n",
              "    <tr>\n",
              "      <th>3</th>\n",
              "      <td>9</td>\n",
              "      <td>0</td>\n",
              "      <td>PER1520-416-283_337303e9-49d5-49c6-b62b-44d84a...</td>\n",
              "      <td>6.0</td>\n",
              "      <td>11.0</td>\n",
              "      <td>5.5</td>\n",
              "      <td>1.0</td>\n",
              "      <td>0.200</td>\n",
              "      <td>6.0</td>\n",
              "      <td>5.0</td>\n",
              "      <td>...</td>\n",
              "      <td>12.0</td>\n",
              "      <td>8.0</td>\n",
              "      <td>27.0</td>\n",
              "      <td>6.75</td>\n",
              "      <td>3.0</td>\n",
              "      <td>1.500</td>\n",
              "      <td>12.0</td>\n",
              "      <td>2.0</td>\n",
              "      <td>2.0</td>\n",
              "      <td>6.5</td>\n",
              "    </tr>\n",
              "    <tr>\n",
              "      <th>4</th>\n",
              "      <td>9</td>\n",
              "      <td>0</td>\n",
              "      <td>PER1520-416-283_362a0895-a707-4155-ae77-86f371...</td>\n",
              "      <td>6.0</td>\n",
              "      <td>12.0</td>\n",
              "      <td>6.0</td>\n",
              "      <td>0.0</td>\n",
              "      <td>0.000</td>\n",
              "      <td>6.0</td>\n",
              "      <td>6.0</td>\n",
              "      <td>...</td>\n",
              "      <td>49.0</td>\n",
              "      <td>47.0</td>\n",
              "      <td>159.0</td>\n",
              "      <td>39.75</td>\n",
              "      <td>-15.0</td>\n",
              "      <td>-0.385</td>\n",
              "      <td>49.0</td>\n",
              "      <td>24.0</td>\n",
              "      <td>39.0</td>\n",
              "      <td>43.0</td>\n",
              "    </tr>\n",
              "    <tr>\n",
              "      <th>...</th>\n",
              "      <td>...</td>\n",
              "      <td>...</td>\n",
              "      <td>...</td>\n",
              "      <td>...</td>\n",
              "      <td>...</td>\n",
              "      <td>...</td>\n",
              "      <td>...</td>\n",
              "      <td>...</td>\n",
              "      <td>...</td>\n",
              "      <td>...</td>\n",
              "      <td>...</td>\n",
              "      <td>...</td>\n",
              "      <td>...</td>\n",
              "      <td>...</td>\n",
              "      <td>...</td>\n",
              "      <td>...</td>\n",
              "      <td>...</td>\n",
              "      <td>...</td>\n",
              "      <td>...</td>\n",
              "      <td>...</td>\n",
              "      <td>...</td>\n",
              "    </tr>\n",
              "    <tr>\n",
              "      <th>4006</th>\n",
              "      <td>8</td>\n",
              "      <td>0</td>\n",
              "      <td>PER3561-379-379__379_b56dc7d5-094d-40b6-90ce-1...</td>\n",
              "      <td>7.0</td>\n",
              "      <td>14.0</td>\n",
              "      <td>7.0</td>\n",
              "      <td>0.0</td>\n",
              "      <td>0.000</td>\n",
              "      <td>7.0</td>\n",
              "      <td>7.0</td>\n",
              "      <td>...</td>\n",
              "      <td>14.0</td>\n",
              "      <td>37.0</td>\n",
              "      <td>150.0</td>\n",
              "      <td>37.50</td>\n",
              "      <td>34.0</td>\n",
              "      <td>11.333</td>\n",
              "      <td>96.0</td>\n",
              "      <td>3.0</td>\n",
              "      <td>3.0</td>\n",
              "      <td>25.5</td>\n",
              "    </tr>\n",
              "    <tr>\n",
              "      <th>4007</th>\n",
              "      <td>7</td>\n",
              "      <td>0</td>\n",
              "      <td>PER3561-379-379__379_bee9a0ee-081f-4356-bcca-6...</td>\n",
              "      <td>5.0</td>\n",
              "      <td>12.0</td>\n",
              "      <td>6.0</td>\n",
              "      <td>-2.0</td>\n",
              "      <td>-0.286</td>\n",
              "      <td>7.0</td>\n",
              "      <td>5.0</td>\n",
              "      <td>...</td>\n",
              "      <td>17.0</td>\n",
              "      <td>37.0</td>\n",
              "      <td>102.0</td>\n",
              "      <td>25.50</td>\n",
              "      <td>48.0</td>\n",
              "      <td>NaN</td>\n",
              "      <td>48.0</td>\n",
              "      <td>0.0</td>\n",
              "      <td>0.0</td>\n",
              "      <td>37.0</td>\n",
              "    </tr>\n",
              "    <tr>\n",
              "      <th>4008</th>\n",
              "      <td>7</td>\n",
              "      <td>0</td>\n",
              "      <td>PER3561-379-379__379_cb4aa675-ebdf-4391-962e-d...</td>\n",
              "      <td>7.0</td>\n",
              "      <td>13.0</td>\n",
              "      <td>6.5</td>\n",
              "      <td>1.0</td>\n",
              "      <td>0.167</td>\n",
              "      <td>7.0</td>\n",
              "      <td>6.0</td>\n",
              "      <td>...</td>\n",
              "      <td>11.0</td>\n",
              "      <td>11.0</td>\n",
              "      <td>34.0</td>\n",
              "      <td>8.50</td>\n",
              "      <td>4.0</td>\n",
              "      <td>1.000</td>\n",
              "      <td>11.0</td>\n",
              "      <td>4.0</td>\n",
              "      <td>4.0</td>\n",
              "      <td>9.5</td>\n",
              "    </tr>\n",
              "    <tr>\n",
              "      <th>4009</th>\n",
              "      <td>7</td>\n",
              "      <td>0</td>\n",
              "      <td>PER3561-379-379__379_e4ac35f7-e080-4654-9b9f-f...</td>\n",
              "      <td>6.0</td>\n",
              "      <td>12.0</td>\n",
              "      <td>6.0</td>\n",
              "      <td>0.0</td>\n",
              "      <td>0.000</td>\n",
              "      <td>6.0</td>\n",
              "      <td>6.0</td>\n",
              "      <td>...</td>\n",
              "      <td>20.0</td>\n",
              "      <td>31.0</td>\n",
              "      <td>113.0</td>\n",
              "      <td>28.25</td>\n",
              "      <td>10.0</td>\n",
              "      <td>0.476</td>\n",
              "      <td>41.0</td>\n",
              "      <td>20.0</td>\n",
              "      <td>21.0</td>\n",
              "      <td>26.0</td>\n",
              "    </tr>\n",
              "    <tr>\n",
              "      <th>4010</th>\n",
              "      <td>5</td>\n",
              "      <td>0</td>\n",
              "      <td>PER3561-379-379__379_f0ba298b-8fce-4e5a-a458-a...</td>\n",
              "      <td>3.0</td>\n",
              "      <td>7.0</td>\n",
              "      <td>3.5</td>\n",
              "      <td>-1.0</td>\n",
              "      <td>-0.250</td>\n",
              "      <td>4.0</td>\n",
              "      <td>3.0</td>\n",
              "      <td>...</td>\n",
              "      <td>0.0</td>\n",
              "      <td>54.5</td>\n",
              "      <td>111.0</td>\n",
              "      <td>27.75</td>\n",
              "      <td>39.0</td>\n",
              "      <td>19.500</td>\n",
              "      <td>68.0</td>\n",
              "      <td>0.0</td>\n",
              "      <td>2.0</td>\n",
              "      <td>41.0</td>\n",
              "    </tr>\n",
              "  </tbody>\n",
              "</table>\n",
              "<p>4011 rows × 1553 columns</p>\n",
              "</div>\n",
              "    <div class=\"colab-df-buttons\">\n",
              "\n",
              "  <div class=\"colab-df-container\">\n",
              "    <button class=\"colab-df-convert\" onclick=\"convertToInteractive('df-7db6830f-daf7-4eab-93c8-257dfe85b45f')\"\n",
              "            title=\"Convert this dataframe to an interactive table.\"\n",
              "            style=\"display:none;\">\n",
              "\n",
              "  <svg xmlns=\"http://www.w3.org/2000/svg\" height=\"24px\" viewBox=\"0 -960 960 960\">\n",
              "    <path d=\"M120-120v-720h720v720H120Zm60-500h600v-160H180v160Zm220 220h160v-160H400v160Zm0 220h160v-160H400v160ZM180-400h160v-160H180v160Zm440 0h160v-160H620v160ZM180-180h160v-160H180v160Zm440 0h160v-160H620v160Z\"/>\n",
              "  </svg>\n",
              "    </button>\n",
              "\n",
              "  <style>\n",
              "    .colab-df-container {\n",
              "      display:flex;\n",
              "      gap: 12px;\n",
              "    }\n",
              "\n",
              "    .colab-df-convert {\n",
              "      background-color: #E8F0FE;\n",
              "      border: none;\n",
              "      border-radius: 50%;\n",
              "      cursor: pointer;\n",
              "      display: none;\n",
              "      fill: #1967D2;\n",
              "      height: 32px;\n",
              "      padding: 0 0 0 0;\n",
              "      width: 32px;\n",
              "    }\n",
              "\n",
              "    .colab-df-convert:hover {\n",
              "      background-color: #E2EBFA;\n",
              "      box-shadow: 0px 1px 2px rgba(60, 64, 67, 0.3), 0px 1px 3px 1px rgba(60, 64, 67, 0.15);\n",
              "      fill: #174EA6;\n",
              "    }\n",
              "\n",
              "    .colab-df-buttons div {\n",
              "      margin-bottom: 4px;\n",
              "    }\n",
              "\n",
              "    [theme=dark] .colab-df-convert {\n",
              "      background-color: #3B4455;\n",
              "      fill: #D2E3FC;\n",
              "    }\n",
              "\n",
              "    [theme=dark] .colab-df-convert:hover {\n",
              "      background-color: #434B5C;\n",
              "      box-shadow: 0px 1px 3px 1px rgba(0, 0, 0, 0.15);\n",
              "      filter: drop-shadow(0px 1px 2px rgba(0, 0, 0, 0.3));\n",
              "      fill: #FFFFFF;\n",
              "    }\n",
              "  </style>\n",
              "\n",
              "    <script>\n",
              "      const buttonEl =\n",
              "        document.querySelector('#df-7db6830f-daf7-4eab-93c8-257dfe85b45f button.colab-df-convert');\n",
              "      buttonEl.style.display =\n",
              "        google.colab.kernel.accessAllowed ? 'block' : 'none';\n",
              "\n",
              "      async function convertToInteractive(key) {\n",
              "        const element = document.querySelector('#df-7db6830f-daf7-4eab-93c8-257dfe85b45f');\n",
              "        const dataTable =\n",
              "          await google.colab.kernel.invokeFunction('convertToInteractive',\n",
              "                                                    [key], {});\n",
              "        if (!dataTable) return;\n",
              "\n",
              "        const docLinkHtml = 'Like what you see? Visit the ' +\n",
              "          '<a target=\"_blank\" href=https://colab.research.google.com/notebooks/data_table.ipynb>data table notebook</a>'\n",
              "          + ' to learn more about interactive tables.';\n",
              "        element.innerHTML = '';\n",
              "        dataTable['output_type'] = 'display_data';\n",
              "        await google.colab.output.renderOutput(dataTable, element);\n",
              "        const docLink = document.createElement('div');\n",
              "        docLink.innerHTML = docLinkHtml;\n",
              "        element.appendChild(docLink);\n",
              "      }\n",
              "    </script>\n",
              "  </div>\n",
              "\n",
              "\n",
              "<div id=\"df-ca991630-5e0c-4afa-8b8c-024e94cc869d\">\n",
              "  <button class=\"colab-df-quickchart\" onclick=\"quickchart('df-ca991630-5e0c-4afa-8b8c-024e94cc869d')\"\n",
              "            title=\"Suggest charts\"\n",
              "            style=\"display:none;\">\n",
              "\n",
              "<svg xmlns=\"http://www.w3.org/2000/svg\" height=\"24px\"viewBox=\"0 0 24 24\"\n",
              "     width=\"24px\">\n",
              "    <g>\n",
              "        <path d=\"M19 3H5c-1.1 0-2 .9-2 2v14c0 1.1.9 2 2 2h14c1.1 0 2-.9 2-2V5c0-1.1-.9-2-2-2zM9 17H7v-7h2v7zm4 0h-2V7h2v10zm4 0h-2v-4h2v4z\"/>\n",
              "    </g>\n",
              "</svg>\n",
              "  </button>\n",
              "\n",
              "<style>\n",
              "  .colab-df-quickchart {\n",
              "      --bg-color: #E8F0FE;\n",
              "      --fill-color: #1967D2;\n",
              "      --hover-bg-color: #E2EBFA;\n",
              "      --hover-fill-color: #174EA6;\n",
              "      --disabled-fill-color: #AAA;\n",
              "      --disabled-bg-color: #DDD;\n",
              "  }\n",
              "\n",
              "  [theme=dark] .colab-df-quickchart {\n",
              "      --bg-color: #3B4455;\n",
              "      --fill-color: #D2E3FC;\n",
              "      --hover-bg-color: #434B5C;\n",
              "      --hover-fill-color: #FFFFFF;\n",
              "      --disabled-bg-color: #3B4455;\n",
              "      --disabled-fill-color: #666;\n",
              "  }\n",
              "\n",
              "  .colab-df-quickchart {\n",
              "    background-color: var(--bg-color);\n",
              "    border: none;\n",
              "    border-radius: 50%;\n",
              "    cursor: pointer;\n",
              "    display: none;\n",
              "    fill: var(--fill-color);\n",
              "    height: 32px;\n",
              "    padding: 0;\n",
              "    width: 32px;\n",
              "  }\n",
              "\n",
              "  .colab-df-quickchart:hover {\n",
              "    background-color: var(--hover-bg-color);\n",
              "    box-shadow: 0 1px 2px rgba(60, 64, 67, 0.3), 0 1px 3px 1px rgba(60, 64, 67, 0.15);\n",
              "    fill: var(--button-hover-fill-color);\n",
              "  }\n",
              "\n",
              "  .colab-df-quickchart-complete:disabled,\n",
              "  .colab-df-quickchart-complete:disabled:hover {\n",
              "    background-color: var(--disabled-bg-color);\n",
              "    fill: var(--disabled-fill-color);\n",
              "    box-shadow: none;\n",
              "  }\n",
              "\n",
              "  .colab-df-spinner {\n",
              "    border: 2px solid var(--fill-color);\n",
              "    border-color: transparent;\n",
              "    border-bottom-color: var(--fill-color);\n",
              "    animation:\n",
              "      spin 1s steps(1) infinite;\n",
              "  }\n",
              "\n",
              "  @keyframes spin {\n",
              "    0% {\n",
              "      border-color: transparent;\n",
              "      border-bottom-color: var(--fill-color);\n",
              "      border-left-color: var(--fill-color);\n",
              "    }\n",
              "    20% {\n",
              "      border-color: transparent;\n",
              "      border-left-color: var(--fill-color);\n",
              "      border-top-color: var(--fill-color);\n",
              "    }\n",
              "    30% {\n",
              "      border-color: transparent;\n",
              "      border-left-color: var(--fill-color);\n",
              "      border-top-color: var(--fill-color);\n",
              "      border-right-color: var(--fill-color);\n",
              "    }\n",
              "    40% {\n",
              "      border-color: transparent;\n",
              "      border-right-color: var(--fill-color);\n",
              "      border-top-color: var(--fill-color);\n",
              "    }\n",
              "    60% {\n",
              "      border-color: transparent;\n",
              "      border-right-color: var(--fill-color);\n",
              "    }\n",
              "    80% {\n",
              "      border-color: transparent;\n",
              "      border-right-color: var(--fill-color);\n",
              "      border-bottom-color: var(--fill-color);\n",
              "    }\n",
              "    90% {\n",
              "      border-color: transparent;\n",
              "      border-bottom-color: var(--fill-color);\n",
              "    }\n",
              "  }\n",
              "</style>\n",
              "\n",
              "  <script>\n",
              "    async function quickchart(key) {\n",
              "      const quickchartButtonEl =\n",
              "        document.querySelector('#' + key + ' button');\n",
              "      quickchartButtonEl.disabled = true;  // To prevent multiple clicks.\n",
              "      quickchartButtonEl.classList.add('colab-df-spinner');\n",
              "      try {\n",
              "        const charts = await google.colab.kernel.invokeFunction(\n",
              "            'suggestCharts', [key], {});\n",
              "      } catch (error) {\n",
              "        console.error('Error during call to suggestCharts:', error);\n",
              "      }\n",
              "      quickchartButtonEl.classList.remove('colab-df-spinner');\n",
              "      quickchartButtonEl.classList.add('colab-df-quickchart-complete');\n",
              "    }\n",
              "    (() => {\n",
              "      let quickchartButtonEl =\n",
              "        document.querySelector('#df-ca991630-5e0c-4afa-8b8c-024e94cc869d button');\n",
              "      quickchartButtonEl.style.display =\n",
              "        google.colab.kernel.accessAllowed ? 'block' : 'none';\n",
              "    })();\n",
              "  </script>\n",
              "</div>\n",
              "\n",
              "  <div id=\"id_d21af43c-1a3c-4d4e-b5ad-adcf54f74748\">\n",
              "    <style>\n",
              "      .colab-df-generate {\n",
              "        background-color: #E8F0FE;\n",
              "        border: none;\n",
              "        border-radius: 50%;\n",
              "        cursor: pointer;\n",
              "        display: none;\n",
              "        fill: #1967D2;\n",
              "        height: 32px;\n",
              "        padding: 0 0 0 0;\n",
              "        width: 32px;\n",
              "      }\n",
              "\n",
              "      .colab-df-generate:hover {\n",
              "        background-color: #E2EBFA;\n",
              "        box-shadow: 0px 1px 2px rgba(60, 64, 67, 0.3), 0px 1px 3px 1px rgba(60, 64, 67, 0.15);\n",
              "        fill: #174EA6;\n",
              "      }\n",
              "\n",
              "      [theme=dark] .colab-df-generate {\n",
              "        background-color: #3B4455;\n",
              "        fill: #D2E3FC;\n",
              "      }\n",
              "\n",
              "      [theme=dark] .colab-df-generate:hover {\n",
              "        background-color: #434B5C;\n",
              "        box-shadow: 0px 1px 3px 1px rgba(0, 0, 0, 0.15);\n",
              "        filter: drop-shadow(0px 1px 2px rgba(0, 0, 0, 0.3));\n",
              "        fill: #FFFFFF;\n",
              "      }\n",
              "    </style>\n",
              "    <button class=\"colab-df-generate\" onclick=\"generateWithVariable('df')\"\n",
              "            title=\"Generate code using this dataframe.\"\n",
              "            style=\"display:none;\">\n",
              "\n",
              "  <svg xmlns=\"http://www.w3.org/2000/svg\" height=\"24px\"viewBox=\"0 0 24 24\"\n",
              "       width=\"24px\">\n",
              "    <path d=\"M7,19H8.4L18.45,9,17,7.55,7,17.6ZM5,21V16.75L18.45,3.32a2,2,0,0,1,2.83,0l1.4,1.43a1.91,1.91,0,0,1,.58,1.4,1.91,1.91,0,0,1-.58,1.4L9.25,21ZM18.45,9,17,7.55Zm-12,3A5.31,5.31,0,0,0,4.9,8.1,5.31,5.31,0,0,0,1,6.5,5.31,5.31,0,0,0,4.9,4.9,5.31,5.31,0,0,0,6.5,1,5.31,5.31,0,0,0,8.1,4.9,5.31,5.31,0,0,0,12,6.5,5.46,5.46,0,0,0,6.5,12Z\"/>\n",
              "  </svg>\n",
              "    </button>\n",
              "    <script>\n",
              "      (() => {\n",
              "      const buttonEl =\n",
              "        document.querySelector('#id_d21af43c-1a3c-4d4e-b5ad-adcf54f74748 button.colab-df-generate');\n",
              "      buttonEl.style.display =\n",
              "        google.colab.kernel.accessAllowed ? 'block' : 'none';\n",
              "\n",
              "      buttonEl.onclick = () => {\n",
              "        google.colab.notebook.generateWithVariable('df');\n",
              "      }\n",
              "      })();\n",
              "    </script>\n",
              "  </div>\n",
              "\n",
              "    </div>\n",
              "  </div>\n"
            ],
            "application/vnd.google.colaboratory.intrinsic+json": {
              "type": "dataframe",
              "variable_name": "df"
            }
          },
          "metadata": {},
          "execution_count": 4
        }
      ]
    },
    {
      "cell_type": "code",
      "source": [
        "dfstats = df.describe().T\n",
        "columnas = dfstats[dfstats['min'] == 0][dfstats['max'] == 0].index\n",
        "df.drop(columns=columnas).describe().T"
      ],
      "metadata": {
        "colab": {
          "base_uri": "https://localhost:8080/",
          "height": 141
        },
        "id": "zA9cZxRTfmMa",
        "outputId": "42c33f13-98d2-4495-895b-13a0de8a2081"
      },
      "execution_count": null,
      "outputs": [
        {
          "output_type": "error",
          "ename": "NameError",
          "evalue": "name 'df' is not defined",
          "traceback": [
            "\u001b[0;31m---------------------------------------------------------------------------\u001b[0m",
            "\u001b[0;31mNameError\u001b[0m                                 Traceback (most recent call last)",
            "\u001b[0;32m<ipython-input-1-7a4eb25fe385>\u001b[0m in \u001b[0;36m<cell line: 1>\u001b[0;34m()\u001b[0m\n\u001b[0;32m----> 1\u001b[0;31m \u001b[0mdf\u001b[0m\u001b[0;34m.\u001b[0m\u001b[0mdrop\u001b[0m\u001b[0;34m(\u001b[0m\u001b[0mcolumns\u001b[0m\u001b[0;34m=\u001b[0m\u001b[0mcolumnas\u001b[0m\u001b[0;34m)\u001b[0m\u001b[0;34m\u001b[0m\u001b[0;34m\u001b[0m\u001b[0m\n\u001b[0m",
            "\u001b[0;31mNameError\u001b[0m: name 'df' is not defined"
          ]
        }
      ]
    },
    {
      "cell_type": "markdown",
      "source": [
        "## Definir valores a trabajar.\n",
        "\n",
        "Quitar la columna innecesaria key_id, y separar la marca de abandono ('y') de los demás valores ('x')."
      ],
      "metadata": {
        "id": "Y5383RyT7wG-"
      }
    },
    {
      "cell_type": "code",
      "source": [
        "df = df.drop(columns='key_id')"
      ],
      "metadata": {
        "id": "gI2yX7nhZ5V6"
      },
      "execution_count": null,
      "outputs": []
    },
    {
      "cell_type": "markdown",
      "source": [
        "## Valores de 'X' y 'Y'"
      ],
      "metadata": {
        "id": "9SmmTl9g1qTG"
      }
    },
    {
      "cell_type": "code",
      "source": [
        "x = df.drop(columns='marca_abandono')\n",
        "x"
      ],
      "metadata": {
        "id": "bYwvuHs1Z5g5",
        "colab": {
          "base_uri": "https://localhost:8080/",
          "height": 444
        },
        "outputId": "fd27d89f-8f26-4055-bebd-eef85f4571bd"
      },
      "execution_count": null,
      "outputs": [
        {
          "output_type": "execute_result",
          "data": {
            "text/plain": [
              "      tasignaturas  tcursos_events_peranalisis  tcursos_events_sum2s  \\\n",
              "0                9                           7                    12   \n",
              "1                4                           7                    14   \n",
              "2                9                           6                    11   \n",
              "3                9                           6                    12   \n",
              "4                8                           7                    12   \n",
              "...            ...                         ...                   ...   \n",
              "3739             8                           7                    14   \n",
              "3740             7                           5                    12   \n",
              "3741             7                           7                    13   \n",
              "3742             7                           6                    12   \n",
              "3743             5                           3                     7   \n",
              "\n",
              "      tcursos_events_prom2s  tcursos_events_diff2s  tcursos_events_max2s  \\\n",
              "0                       6.0                      2                     7   \n",
              "1                       7.0                      0                     7   \n",
              "2                       5.5                      1                     6   \n",
              "3                       6.0                      0                     6   \n",
              "4                       6.0                      2                     7   \n",
              "...                     ...                    ...                   ...   \n",
              "3739                    7.0                      0                     7   \n",
              "3740                    6.0                     -2                     7   \n",
              "3741                    6.5                      1                     7   \n",
              "3742                    6.0                      0                     6   \n",
              "3743                    3.5                     -1                     4   \n",
              "\n",
              "      tcursos_events_min2s  tcursos_events_sem2  tcursos_events_median2s  \\\n",
              "0                        5                    5                      6.0   \n",
              "1                        7                    7                      7.0   \n",
              "2                        5                    5                      5.5   \n",
              "3                        6                    6                      6.0   \n",
              "4                        5                    5                      6.0   \n",
              "...                    ...                  ...                      ...   \n",
              "3739                     7                    7                      7.0   \n",
              "3740                     5                    7                      6.0   \n",
              "3741                     6                    6                      6.5   \n",
              "3742                     6                    6                      6.0   \n",
              "3743                     3                    4                      3.5   \n",
              "\n",
              "      tcursos_events_sum3s  ...  tt_login_min3s  tt_login_sem3  \\\n",
              "0                       19  ...              65             73   \n",
              "1                       22  ...              18             36   \n",
              "2                       17  ...               5             12   \n",
              "3                       18  ...              24             49   \n",
              "4                       20  ...              16            163   \n",
              "...                    ...  ...             ...            ...   \n",
              "3739                    18  ...              14             14   \n",
              "3740                    18  ...              17             17   \n",
              "3741                    19  ...               8             11   \n",
              "3742                    16  ...              20             20   \n",
              "3743                     7  ...               0              0   \n",
              "\n",
              "      tt_login_median3s  tt_login_sum4s  tt_login_prom4s  tt_login_diff4s  \\\n",
              "0                  73.0             347            86.75               37   \n",
              "1                  30.0             119            29.75              -17   \n",
              "2                   8.0              27             6.75                3   \n",
              "3                  47.0             159            39.75              -15   \n",
              "4                  16.0             229            57.25              -18   \n",
              "...                 ...             ...              ...              ...   \n",
              "3739               37.0             150            37.50               34   \n",
              "3740               37.0             102            25.50               48   \n",
              "3741               11.0              34             8.50                4   \n",
              "3742               31.0             113            28.25               10   \n",
              "3743               54.5             111            27.75               39   \n",
              "\n",
              "      tt_login_max4s  tt_login_min4s  tt_login_sem4  tt_login_median4s  \n",
              "0                123              65             86               79.5  \n",
              "1                 36              18             35               32.5  \n",
              "2                 12               2              2                6.5  \n",
              "3                 49              24             39               43.0  \n",
              "4                163              16             34               25.0  \n",
              "...              ...             ...            ...                ...  \n",
              "3739              96               3              3               25.5  \n",
              "3740              48               0              0               37.0  \n",
              "3741              11               4              4                9.5  \n",
              "3742              41              20             21               26.0  \n",
              "3743              68               0              2               41.0  \n",
              "\n",
              "[3744 rows x 1101 columns]"
            ],
            "text/html": [
              "\n",
              "  <div id=\"df-c86afd05-75f8-4016-8084-655bc40f3a6f\" class=\"colab-df-container\">\n",
              "    <div>\n",
              "<style scoped>\n",
              "    .dataframe tbody tr th:only-of-type {\n",
              "        vertical-align: middle;\n",
              "    }\n",
              "\n",
              "    .dataframe tbody tr th {\n",
              "        vertical-align: top;\n",
              "    }\n",
              "\n",
              "    .dataframe thead th {\n",
              "        text-align: right;\n",
              "    }\n",
              "</style>\n",
              "<table border=\"1\" class=\"dataframe\">\n",
              "  <thead>\n",
              "    <tr style=\"text-align: right;\">\n",
              "      <th></th>\n",
              "      <th>tasignaturas</th>\n",
              "      <th>tcursos_events_peranalisis</th>\n",
              "      <th>tcursos_events_sum2s</th>\n",
              "      <th>tcursos_events_prom2s</th>\n",
              "      <th>tcursos_events_diff2s</th>\n",
              "      <th>tcursos_events_max2s</th>\n",
              "      <th>tcursos_events_min2s</th>\n",
              "      <th>tcursos_events_sem2</th>\n",
              "      <th>tcursos_events_median2s</th>\n",
              "      <th>tcursos_events_sum3s</th>\n",
              "      <th>...</th>\n",
              "      <th>tt_login_min3s</th>\n",
              "      <th>tt_login_sem3</th>\n",
              "      <th>tt_login_median3s</th>\n",
              "      <th>tt_login_sum4s</th>\n",
              "      <th>tt_login_prom4s</th>\n",
              "      <th>tt_login_diff4s</th>\n",
              "      <th>tt_login_max4s</th>\n",
              "      <th>tt_login_min4s</th>\n",
              "      <th>tt_login_sem4</th>\n",
              "      <th>tt_login_median4s</th>\n",
              "    </tr>\n",
              "  </thead>\n",
              "  <tbody>\n",
              "    <tr>\n",
              "      <th>0</th>\n",
              "      <td>9</td>\n",
              "      <td>7</td>\n",
              "      <td>12</td>\n",
              "      <td>6.0</td>\n",
              "      <td>2</td>\n",
              "      <td>7</td>\n",
              "      <td>5</td>\n",
              "      <td>5</td>\n",
              "      <td>6.0</td>\n",
              "      <td>19</td>\n",
              "      <td>...</td>\n",
              "      <td>65</td>\n",
              "      <td>73</td>\n",
              "      <td>73.0</td>\n",
              "      <td>347</td>\n",
              "      <td>86.75</td>\n",
              "      <td>37</td>\n",
              "      <td>123</td>\n",
              "      <td>65</td>\n",
              "      <td>86</td>\n",
              "      <td>79.5</td>\n",
              "    </tr>\n",
              "    <tr>\n",
              "      <th>1</th>\n",
              "      <td>4</td>\n",
              "      <td>7</td>\n",
              "      <td>14</td>\n",
              "      <td>7.0</td>\n",
              "      <td>0</td>\n",
              "      <td>7</td>\n",
              "      <td>7</td>\n",
              "      <td>7</td>\n",
              "      <td>7.0</td>\n",
              "      <td>22</td>\n",
              "      <td>...</td>\n",
              "      <td>18</td>\n",
              "      <td>36</td>\n",
              "      <td>30.0</td>\n",
              "      <td>119</td>\n",
              "      <td>29.75</td>\n",
              "      <td>-17</td>\n",
              "      <td>36</td>\n",
              "      <td>18</td>\n",
              "      <td>35</td>\n",
              "      <td>32.5</td>\n",
              "    </tr>\n",
              "    <tr>\n",
              "      <th>2</th>\n",
              "      <td>9</td>\n",
              "      <td>6</td>\n",
              "      <td>11</td>\n",
              "      <td>5.5</td>\n",
              "      <td>1</td>\n",
              "      <td>6</td>\n",
              "      <td>5</td>\n",
              "      <td>5</td>\n",
              "      <td>5.5</td>\n",
              "      <td>17</td>\n",
              "      <td>...</td>\n",
              "      <td>5</td>\n",
              "      <td>12</td>\n",
              "      <td>8.0</td>\n",
              "      <td>27</td>\n",
              "      <td>6.75</td>\n",
              "      <td>3</td>\n",
              "      <td>12</td>\n",
              "      <td>2</td>\n",
              "      <td>2</td>\n",
              "      <td>6.5</td>\n",
              "    </tr>\n",
              "    <tr>\n",
              "      <th>3</th>\n",
              "      <td>9</td>\n",
              "      <td>6</td>\n",
              "      <td>12</td>\n",
              "      <td>6.0</td>\n",
              "      <td>0</td>\n",
              "      <td>6</td>\n",
              "      <td>6</td>\n",
              "      <td>6</td>\n",
              "      <td>6.0</td>\n",
              "      <td>18</td>\n",
              "      <td>...</td>\n",
              "      <td>24</td>\n",
              "      <td>49</td>\n",
              "      <td>47.0</td>\n",
              "      <td>159</td>\n",
              "      <td>39.75</td>\n",
              "      <td>-15</td>\n",
              "      <td>49</td>\n",
              "      <td>24</td>\n",
              "      <td>39</td>\n",
              "      <td>43.0</td>\n",
              "    </tr>\n",
              "    <tr>\n",
              "      <th>4</th>\n",
              "      <td>8</td>\n",
              "      <td>7</td>\n",
              "      <td>12</td>\n",
              "      <td>6.0</td>\n",
              "      <td>2</td>\n",
              "      <td>7</td>\n",
              "      <td>5</td>\n",
              "      <td>5</td>\n",
              "      <td>6.0</td>\n",
              "      <td>20</td>\n",
              "      <td>...</td>\n",
              "      <td>16</td>\n",
              "      <td>163</td>\n",
              "      <td>16.0</td>\n",
              "      <td>229</td>\n",
              "      <td>57.25</td>\n",
              "      <td>-18</td>\n",
              "      <td>163</td>\n",
              "      <td>16</td>\n",
              "      <td>34</td>\n",
              "      <td>25.0</td>\n",
              "    </tr>\n",
              "    <tr>\n",
              "      <th>...</th>\n",
              "      <td>...</td>\n",
              "      <td>...</td>\n",
              "      <td>...</td>\n",
              "      <td>...</td>\n",
              "      <td>...</td>\n",
              "      <td>...</td>\n",
              "      <td>...</td>\n",
              "      <td>...</td>\n",
              "      <td>...</td>\n",
              "      <td>...</td>\n",
              "      <td>...</td>\n",
              "      <td>...</td>\n",
              "      <td>...</td>\n",
              "      <td>...</td>\n",
              "      <td>...</td>\n",
              "      <td>...</td>\n",
              "      <td>...</td>\n",
              "      <td>...</td>\n",
              "      <td>...</td>\n",
              "      <td>...</td>\n",
              "      <td>...</td>\n",
              "    </tr>\n",
              "    <tr>\n",
              "      <th>3739</th>\n",
              "      <td>8</td>\n",
              "      <td>7</td>\n",
              "      <td>14</td>\n",
              "      <td>7.0</td>\n",
              "      <td>0</td>\n",
              "      <td>7</td>\n",
              "      <td>7</td>\n",
              "      <td>7</td>\n",
              "      <td>7.0</td>\n",
              "      <td>18</td>\n",
              "      <td>...</td>\n",
              "      <td>14</td>\n",
              "      <td>14</td>\n",
              "      <td>37.0</td>\n",
              "      <td>150</td>\n",
              "      <td>37.50</td>\n",
              "      <td>34</td>\n",
              "      <td>96</td>\n",
              "      <td>3</td>\n",
              "      <td>3</td>\n",
              "      <td>25.5</td>\n",
              "    </tr>\n",
              "    <tr>\n",
              "      <th>3740</th>\n",
              "      <td>7</td>\n",
              "      <td>5</td>\n",
              "      <td>12</td>\n",
              "      <td>6.0</td>\n",
              "      <td>-2</td>\n",
              "      <td>7</td>\n",
              "      <td>5</td>\n",
              "      <td>7</td>\n",
              "      <td>6.0</td>\n",
              "      <td>18</td>\n",
              "      <td>...</td>\n",
              "      <td>17</td>\n",
              "      <td>17</td>\n",
              "      <td>37.0</td>\n",
              "      <td>102</td>\n",
              "      <td>25.50</td>\n",
              "      <td>48</td>\n",
              "      <td>48</td>\n",
              "      <td>0</td>\n",
              "      <td>0</td>\n",
              "      <td>37.0</td>\n",
              "    </tr>\n",
              "    <tr>\n",
              "      <th>3741</th>\n",
              "      <td>7</td>\n",
              "      <td>7</td>\n",
              "      <td>13</td>\n",
              "      <td>6.5</td>\n",
              "      <td>1</td>\n",
              "      <td>7</td>\n",
              "      <td>6</td>\n",
              "      <td>6</td>\n",
              "      <td>6.5</td>\n",
              "      <td>19</td>\n",
              "      <td>...</td>\n",
              "      <td>8</td>\n",
              "      <td>11</td>\n",
              "      <td>11.0</td>\n",
              "      <td>34</td>\n",
              "      <td>8.50</td>\n",
              "      <td>4</td>\n",
              "      <td>11</td>\n",
              "      <td>4</td>\n",
              "      <td>4</td>\n",
              "      <td>9.5</td>\n",
              "    </tr>\n",
              "    <tr>\n",
              "      <th>3742</th>\n",
              "      <td>7</td>\n",
              "      <td>6</td>\n",
              "      <td>12</td>\n",
              "      <td>6.0</td>\n",
              "      <td>0</td>\n",
              "      <td>6</td>\n",
              "      <td>6</td>\n",
              "      <td>6</td>\n",
              "      <td>6.0</td>\n",
              "      <td>16</td>\n",
              "      <td>...</td>\n",
              "      <td>20</td>\n",
              "      <td>20</td>\n",
              "      <td>31.0</td>\n",
              "      <td>113</td>\n",
              "      <td>28.25</td>\n",
              "      <td>10</td>\n",
              "      <td>41</td>\n",
              "      <td>20</td>\n",
              "      <td>21</td>\n",
              "      <td>26.0</td>\n",
              "    </tr>\n",
              "    <tr>\n",
              "      <th>3743</th>\n",
              "      <td>5</td>\n",
              "      <td>3</td>\n",
              "      <td>7</td>\n",
              "      <td>3.5</td>\n",
              "      <td>-1</td>\n",
              "      <td>4</td>\n",
              "      <td>3</td>\n",
              "      <td>4</td>\n",
              "      <td>3.5</td>\n",
              "      <td>7</td>\n",
              "      <td>...</td>\n",
              "      <td>0</td>\n",
              "      <td>0</td>\n",
              "      <td>54.5</td>\n",
              "      <td>111</td>\n",
              "      <td>27.75</td>\n",
              "      <td>39</td>\n",
              "      <td>68</td>\n",
              "      <td>0</td>\n",
              "      <td>2</td>\n",
              "      <td>41.0</td>\n",
              "    </tr>\n",
              "  </tbody>\n",
              "</table>\n",
              "<p>3744 rows × 1101 columns</p>\n",
              "</div>\n",
              "    <div class=\"colab-df-buttons\">\n",
              "\n",
              "  <div class=\"colab-df-container\">\n",
              "    <button class=\"colab-df-convert\" onclick=\"convertToInteractive('df-c86afd05-75f8-4016-8084-655bc40f3a6f')\"\n",
              "            title=\"Convert this dataframe to an interactive table.\"\n",
              "            style=\"display:none;\">\n",
              "\n",
              "  <svg xmlns=\"http://www.w3.org/2000/svg\" height=\"24px\" viewBox=\"0 -960 960 960\">\n",
              "    <path d=\"M120-120v-720h720v720H120Zm60-500h600v-160H180v160Zm220 220h160v-160H400v160Zm0 220h160v-160H400v160ZM180-400h160v-160H180v160Zm440 0h160v-160H620v160ZM180-180h160v-160H180v160Zm440 0h160v-160H620v160Z\"/>\n",
              "  </svg>\n",
              "    </button>\n",
              "\n",
              "  <style>\n",
              "    .colab-df-container {\n",
              "      display:flex;\n",
              "      gap: 12px;\n",
              "    }\n",
              "\n",
              "    .colab-df-convert {\n",
              "      background-color: #E8F0FE;\n",
              "      border: none;\n",
              "      border-radius: 50%;\n",
              "      cursor: pointer;\n",
              "      display: none;\n",
              "      fill: #1967D2;\n",
              "      height: 32px;\n",
              "      padding: 0 0 0 0;\n",
              "      width: 32px;\n",
              "    }\n",
              "\n",
              "    .colab-df-convert:hover {\n",
              "      background-color: #E2EBFA;\n",
              "      box-shadow: 0px 1px 2px rgba(60, 64, 67, 0.3), 0px 1px 3px 1px rgba(60, 64, 67, 0.15);\n",
              "      fill: #174EA6;\n",
              "    }\n",
              "\n",
              "    .colab-df-buttons div {\n",
              "      margin-bottom: 4px;\n",
              "    }\n",
              "\n",
              "    [theme=dark] .colab-df-convert {\n",
              "      background-color: #3B4455;\n",
              "      fill: #D2E3FC;\n",
              "    }\n",
              "\n",
              "    [theme=dark] .colab-df-convert:hover {\n",
              "      background-color: #434B5C;\n",
              "      box-shadow: 0px 1px 3px 1px rgba(0, 0, 0, 0.15);\n",
              "      filter: drop-shadow(0px 1px 2px rgba(0, 0, 0, 0.3));\n",
              "      fill: #FFFFFF;\n",
              "    }\n",
              "  </style>\n",
              "\n",
              "    <script>\n",
              "      const buttonEl =\n",
              "        document.querySelector('#df-c86afd05-75f8-4016-8084-655bc40f3a6f button.colab-df-convert');\n",
              "      buttonEl.style.display =\n",
              "        google.colab.kernel.accessAllowed ? 'block' : 'none';\n",
              "\n",
              "      async function convertToInteractive(key) {\n",
              "        const element = document.querySelector('#df-c86afd05-75f8-4016-8084-655bc40f3a6f');\n",
              "        const dataTable =\n",
              "          await google.colab.kernel.invokeFunction('convertToInteractive',\n",
              "                                                    [key], {});\n",
              "        if (!dataTable) return;\n",
              "\n",
              "        const docLinkHtml = 'Like what you see? Visit the ' +\n",
              "          '<a target=\"_blank\" href=https://colab.research.google.com/notebooks/data_table.ipynb>data table notebook</a>'\n",
              "          + ' to learn more about interactive tables.';\n",
              "        element.innerHTML = '';\n",
              "        dataTable['output_type'] = 'display_data';\n",
              "        await google.colab.output.renderOutput(dataTable, element);\n",
              "        const docLink = document.createElement('div');\n",
              "        docLink.innerHTML = docLinkHtml;\n",
              "        element.appendChild(docLink);\n",
              "      }\n",
              "    </script>\n",
              "  </div>\n",
              "\n",
              "\n",
              "<div id=\"df-52aff0c8-8e1c-4e79-adc1-c31b4496ce82\">\n",
              "  <button class=\"colab-df-quickchart\" onclick=\"quickchart('df-52aff0c8-8e1c-4e79-adc1-c31b4496ce82')\"\n",
              "            title=\"Suggest charts\"\n",
              "            style=\"display:none;\">\n",
              "\n",
              "<svg xmlns=\"http://www.w3.org/2000/svg\" height=\"24px\"viewBox=\"0 0 24 24\"\n",
              "     width=\"24px\">\n",
              "    <g>\n",
              "        <path d=\"M19 3H5c-1.1 0-2 .9-2 2v14c0 1.1.9 2 2 2h14c1.1 0 2-.9 2-2V5c0-1.1-.9-2-2-2zM9 17H7v-7h2v7zm4 0h-2V7h2v10zm4 0h-2v-4h2v4z\"/>\n",
              "    </g>\n",
              "</svg>\n",
              "  </button>\n",
              "\n",
              "<style>\n",
              "  .colab-df-quickchart {\n",
              "      --bg-color: #E8F0FE;\n",
              "      --fill-color: #1967D2;\n",
              "      --hover-bg-color: #E2EBFA;\n",
              "      --hover-fill-color: #174EA6;\n",
              "      --disabled-fill-color: #AAA;\n",
              "      --disabled-bg-color: #DDD;\n",
              "  }\n",
              "\n",
              "  [theme=dark] .colab-df-quickchart {\n",
              "      --bg-color: #3B4455;\n",
              "      --fill-color: #D2E3FC;\n",
              "      --hover-bg-color: #434B5C;\n",
              "      --hover-fill-color: #FFFFFF;\n",
              "      --disabled-bg-color: #3B4455;\n",
              "      --disabled-fill-color: #666;\n",
              "  }\n",
              "\n",
              "  .colab-df-quickchart {\n",
              "    background-color: var(--bg-color);\n",
              "    border: none;\n",
              "    border-radius: 50%;\n",
              "    cursor: pointer;\n",
              "    display: none;\n",
              "    fill: var(--fill-color);\n",
              "    height: 32px;\n",
              "    padding: 0;\n",
              "    width: 32px;\n",
              "  }\n",
              "\n",
              "  .colab-df-quickchart:hover {\n",
              "    background-color: var(--hover-bg-color);\n",
              "    box-shadow: 0 1px 2px rgba(60, 64, 67, 0.3), 0 1px 3px 1px rgba(60, 64, 67, 0.15);\n",
              "    fill: var(--button-hover-fill-color);\n",
              "  }\n",
              "\n",
              "  .colab-df-quickchart-complete:disabled,\n",
              "  .colab-df-quickchart-complete:disabled:hover {\n",
              "    background-color: var(--disabled-bg-color);\n",
              "    fill: var(--disabled-fill-color);\n",
              "    box-shadow: none;\n",
              "  }\n",
              "\n",
              "  .colab-df-spinner {\n",
              "    border: 2px solid var(--fill-color);\n",
              "    border-color: transparent;\n",
              "    border-bottom-color: var(--fill-color);\n",
              "    animation:\n",
              "      spin 1s steps(1) infinite;\n",
              "  }\n",
              "\n",
              "  @keyframes spin {\n",
              "    0% {\n",
              "      border-color: transparent;\n",
              "      border-bottom-color: var(--fill-color);\n",
              "      border-left-color: var(--fill-color);\n",
              "    }\n",
              "    20% {\n",
              "      border-color: transparent;\n",
              "      border-left-color: var(--fill-color);\n",
              "      border-top-color: var(--fill-color);\n",
              "    }\n",
              "    30% {\n",
              "      border-color: transparent;\n",
              "      border-left-color: var(--fill-color);\n",
              "      border-top-color: var(--fill-color);\n",
              "      border-right-color: var(--fill-color);\n",
              "    }\n",
              "    40% {\n",
              "      border-color: transparent;\n",
              "      border-right-color: var(--fill-color);\n",
              "      border-top-color: var(--fill-color);\n",
              "    }\n",
              "    60% {\n",
              "      border-color: transparent;\n",
              "      border-right-color: var(--fill-color);\n",
              "    }\n",
              "    80% {\n",
              "      border-color: transparent;\n",
              "      border-right-color: var(--fill-color);\n",
              "      border-bottom-color: var(--fill-color);\n",
              "    }\n",
              "    90% {\n",
              "      border-color: transparent;\n",
              "      border-bottom-color: var(--fill-color);\n",
              "    }\n",
              "  }\n",
              "</style>\n",
              "\n",
              "  <script>\n",
              "    async function quickchart(key) {\n",
              "      const quickchartButtonEl =\n",
              "        document.querySelector('#' + key + ' button');\n",
              "      quickchartButtonEl.disabled = true;  // To prevent multiple clicks.\n",
              "      quickchartButtonEl.classList.add('colab-df-spinner');\n",
              "      try {\n",
              "        const charts = await google.colab.kernel.invokeFunction(\n",
              "            'suggestCharts', [key], {});\n",
              "      } catch (error) {\n",
              "        console.error('Error during call to suggestCharts:', error);\n",
              "      }\n",
              "      quickchartButtonEl.classList.remove('colab-df-spinner');\n",
              "      quickchartButtonEl.classList.add('colab-df-quickchart-complete');\n",
              "    }\n",
              "    (() => {\n",
              "      let quickchartButtonEl =\n",
              "        document.querySelector('#df-52aff0c8-8e1c-4e79-adc1-c31b4496ce82 button');\n",
              "      quickchartButtonEl.style.display =\n",
              "        google.colab.kernel.accessAllowed ? 'block' : 'none';\n",
              "    })();\n",
              "  </script>\n",
              "</div>\n",
              "\n",
              "  <div id=\"id_25be17f7-96ac-422e-9765-09f6977bccef\">\n",
              "    <style>\n",
              "      .colab-df-generate {\n",
              "        background-color: #E8F0FE;\n",
              "        border: none;\n",
              "        border-radius: 50%;\n",
              "        cursor: pointer;\n",
              "        display: none;\n",
              "        fill: #1967D2;\n",
              "        height: 32px;\n",
              "        padding: 0 0 0 0;\n",
              "        width: 32px;\n",
              "      }\n",
              "\n",
              "      .colab-df-generate:hover {\n",
              "        background-color: #E2EBFA;\n",
              "        box-shadow: 0px 1px 2px rgba(60, 64, 67, 0.3), 0px 1px 3px 1px rgba(60, 64, 67, 0.15);\n",
              "        fill: #174EA6;\n",
              "      }\n",
              "\n",
              "      [theme=dark] .colab-df-generate {\n",
              "        background-color: #3B4455;\n",
              "        fill: #D2E3FC;\n",
              "      }\n",
              "\n",
              "      [theme=dark] .colab-df-generate:hover {\n",
              "        background-color: #434B5C;\n",
              "        box-shadow: 0px 1px 3px 1px rgba(0, 0, 0, 0.15);\n",
              "        filter: drop-shadow(0px 1px 2px rgba(0, 0, 0, 0.3));\n",
              "        fill: #FFFFFF;\n",
              "      }\n",
              "    </style>\n",
              "    <button class=\"colab-df-generate\" onclick=\"generateWithVariable('x')\"\n",
              "            title=\"Generate code using this dataframe.\"\n",
              "            style=\"display:none;\">\n",
              "\n",
              "  <svg xmlns=\"http://www.w3.org/2000/svg\" height=\"24px\"viewBox=\"0 0 24 24\"\n",
              "       width=\"24px\">\n",
              "    <path d=\"M7,19H8.4L18.45,9,17,7.55,7,17.6ZM5,21V16.75L18.45,3.32a2,2,0,0,1,2.83,0l1.4,1.43a1.91,1.91,0,0,1,.58,1.4,1.91,1.91,0,0,1-.58,1.4L9.25,21ZM18.45,9,17,7.55Zm-12,3A5.31,5.31,0,0,0,4.9,8.1,5.31,5.31,0,0,0,1,6.5,5.31,5.31,0,0,0,4.9,4.9,5.31,5.31,0,0,0,6.5,1,5.31,5.31,0,0,0,8.1,4.9,5.31,5.31,0,0,0,12,6.5,5.46,5.46,0,0,0,6.5,12Z\"/>\n",
              "  </svg>\n",
              "    </button>\n",
              "    <script>\n",
              "      (() => {\n",
              "      const buttonEl =\n",
              "        document.querySelector('#id_25be17f7-96ac-422e-9765-09f6977bccef button.colab-df-generate');\n",
              "      buttonEl.style.display =\n",
              "        google.colab.kernel.accessAllowed ? 'block' : 'none';\n",
              "\n",
              "      buttonEl.onclick = () => {\n",
              "        google.colab.notebook.generateWithVariable('x');\n",
              "      }\n",
              "      })();\n",
              "    </script>\n",
              "  </div>\n",
              "\n",
              "    </div>\n",
              "  </div>\n"
            ],
            "application/vnd.google.colaboratory.intrinsic+json": {
              "type": "dataframe",
              "variable_name": "x"
            }
          },
          "metadata": {},
          "execution_count": 157
        }
      ]
    },
    {
      "cell_type": "code",
      "source": [
        "y = df['marca_abandono']\n",
        "y"
      ],
      "metadata": {
        "id": "KKUoSsnXZ5i5",
        "colab": {
          "base_uri": "https://localhost:8080/"
        },
        "outputId": "cb78110f-a776-493d-f8c1-4a4caabd75bb"
      },
      "execution_count": null,
      "outputs": [
        {
          "output_type": "execute_result",
          "data": {
            "text/plain": [
              "0       0\n",
              "1       0\n",
              "2       0\n",
              "3       0\n",
              "4       1\n",
              "       ..\n",
              "3739    0\n",
              "3740    0\n",
              "3741    0\n",
              "3742    0\n",
              "3743    0\n",
              "Name: marca_abandono, Length: 3744, dtype: int64"
            ]
          },
          "metadata": {},
          "execution_count": 158
        }
      ]
    },
    {
      "cell_type": "code",
      "source": [
        "pd.DataFrame(x).describe().T\n",
        "min_cero = pd.DataFrame(x).describe().T[pd.DataFrame(x).describe().T['min'] == 0]\n",
        "minmaxcero = min_cero[min_cero['max'] == 0]\n",
        "print('Las variables que tienen valor minimo y valor máximo iguales a cero son:')\n",
        "# for i in list(minmaxcero.index):\n",
        "#   print(i, end=', ')\n",
        "print(f'número de varibles iguales a 0: {len(list(minmaxcero.index))}')\n",
        "xx = x.drop(columns=list(minmaxcero.index))\n",
        "opc = input('¿Desea eliminar las variables iguales a cero? (s/n)').lower()\n",
        "if opc == 's':\n",
        "  x = xx\n",
        "xx.shape"
      ],
      "metadata": {
        "id": "Ih69-4fbQOHO"
      },
      "execution_count": null,
      "outputs": []
    },
    {
      "cell_type": "markdown",
      "source": [
        "## Standardscaler.\n",
        "\n",
        "Se normalizan los datos de x."
      ],
      "metadata": {
        "id": "Zy61an4O1vDr"
      }
    },
    {
      "cell_type": "code",
      "source": [
        "from sklearn.preprocessing import StandardScaler"
      ],
      "metadata": {
        "id": "Hzi6fKgV1z_r"
      },
      "execution_count": null,
      "outputs": []
    },
    {
      "cell_type": "code",
      "source": [
        "x_norm = StandardScaler().fit_transform(x)\n",
        "x_norm"
      ],
      "metadata": {
        "colab": {
          "base_uri": "https://localhost:8080/"
        },
        "id": "kRD9jXpT16pe",
        "outputId": "d5fd3e9d-a409-4b07-8b59-7ea79e9c9bf1"
      },
      "execution_count": null,
      "outputs": [
        {
          "output_type": "execute_result",
          "data": {
            "text/plain": [
              "array([[ 0.60933274,  0.86654946,  0.29295202, ...,  0.63842421,\n",
              "         0.61933665,  0.30797905],\n",
              "       [-1.15313773,  0.86654946,  0.84439112, ..., -0.06416263,\n",
              "         0.02807608, -0.11597656],\n",
              "       [ 0.60933274,  0.3432654 ,  0.01723247, ..., -0.30334113,\n",
              "        -0.35450428, -0.3505052 ],\n",
              "       ...,\n",
              "       [-0.09565545,  0.86654946,  0.56867157, ..., -0.27344382,\n",
              "        -0.33131759, -0.3234442 ],\n",
              "       [-0.09565545,  0.3432654 ,  0.29295202, ..., -0.03426532,\n",
              "        -0.13423074, -0.17460872],\n",
              "       [-0.80064364, -1.22658678, -1.08564572, ..., -0.33323845,\n",
              "        -0.35450428, -0.03930374]])"
            ]
          },
          "metadata": {},
          "execution_count": 142
        }
      ]
    },
    {
      "cell_type": "code",
      "source": [
        "x_norm.shape"
      ],
      "metadata": {
        "colab": {
          "base_uri": "https://localhost:8080/"
        },
        "id": "toxD93RK16k-",
        "outputId": "a15a4fde-0e23-4221-b1dd-c1ea93ce3fbd"
      },
      "execution_count": null,
      "outputs": [
        {
          "output_type": "execute_result",
          "data": {
            "text/plain": [
              "(3744, 1101)"
            ]
          },
          "metadata": {},
          "execution_count": 143
        }
      ]
    },
    {
      "cell_type": "markdown",
      "source": [
        "## Train test split"
      ],
      "metadata": {
        "id": "N4nWbRRt_Oxj"
      }
    },
    {
      "cell_type": "code",
      "source": [
        "from sklearn.model_selection import train_test_split\n",
        "x_entrena, x_test, y_entrena, y_test = train_test_split(x, y, test_size=0.2, random_state=42)\n",
        "print(f'TAMAÑOS:\\nx de entrenamiento = {x_entrena.shape}.\\ny de entrenamiento = {y_entrena.shape}')"
      ],
      "metadata": {
        "id": "M1W8Z9S3Z5nG",
        "colab": {
          "base_uri": "https://localhost:8080/"
        },
        "outputId": "80925dda-ce44-4b9c-ad7c-1dbbadb42c2f"
      },
      "execution_count": null,
      "outputs": [
        {
          "output_type": "stream",
          "name": "stdout",
          "text": [
            "TAMAÑOS:\n",
            "x de entrenamiento = (2995, 577).\n",
            "y de entrenamiento = (2995,)\n"
          ]
        }
      ]
    },
    {
      "cell_type": "markdown",
      "source": [
        "## Análisis de componentes principales"
      ],
      "metadata": {
        "id": "k3AgYyjF_auP"
      }
    },
    {
      "cell_type": "code",
      "source": [
        "from sklearn.decomposition import PCA"
      ],
      "metadata": {
        "id": "XNaNX3kv_bYr"
      },
      "execution_count": null,
      "outputs": []
    },
    {
      "cell_type": "code",
      "source": [
        "pca = PCA(n_components=5)#int((x_entrena.shape[1]-1)/2))\n",
        "pca.fit(x_entrena)"
      ],
      "metadata": {
        "colab": {
          "base_uri": "https://localhost:8080/",
          "height": 75
        },
        "id": "oTGoalt5_msP",
        "outputId": "34a256b0-68dc-44cb-e520-813f5bff8681"
      },
      "execution_count": null,
      "outputs": [
        {
          "output_type": "execute_result",
          "data": {
            "text/plain": [
              "PCA(n_components=5)"
            ],
            "text/html": [
              "<style>#sk-container-id-12 {color: black;background-color: white;}#sk-container-id-12 pre{padding: 0;}#sk-container-id-12 div.sk-toggleable {background-color: white;}#sk-container-id-12 label.sk-toggleable__label {cursor: pointer;display: block;width: 100%;margin-bottom: 0;padding: 0.3em;box-sizing: border-box;text-align: center;}#sk-container-id-12 label.sk-toggleable__label-arrow:before {content: \"▸\";float: left;margin-right: 0.25em;color: #696969;}#sk-container-id-12 label.sk-toggleable__label-arrow:hover:before {color: black;}#sk-container-id-12 div.sk-estimator:hover label.sk-toggleable__label-arrow:before {color: black;}#sk-container-id-12 div.sk-toggleable__content {max-height: 0;max-width: 0;overflow: hidden;text-align: left;background-color: #f0f8ff;}#sk-container-id-12 div.sk-toggleable__content pre {margin: 0.2em;color: black;border-radius: 0.25em;background-color: #f0f8ff;}#sk-container-id-12 input.sk-toggleable__control:checked~div.sk-toggleable__content {max-height: 200px;max-width: 100%;overflow: auto;}#sk-container-id-12 input.sk-toggleable__control:checked~label.sk-toggleable__label-arrow:before {content: \"▾\";}#sk-container-id-12 div.sk-estimator input.sk-toggleable__control:checked~label.sk-toggleable__label {background-color: #d4ebff;}#sk-container-id-12 div.sk-label input.sk-toggleable__control:checked~label.sk-toggleable__label {background-color: #d4ebff;}#sk-container-id-12 input.sk-hidden--visually {border: 0;clip: rect(1px 1px 1px 1px);clip: rect(1px, 1px, 1px, 1px);height: 1px;margin: -1px;overflow: hidden;padding: 0;position: absolute;width: 1px;}#sk-container-id-12 div.sk-estimator {font-family: monospace;background-color: #f0f8ff;border: 1px dotted black;border-radius: 0.25em;box-sizing: border-box;margin-bottom: 0.5em;}#sk-container-id-12 div.sk-estimator:hover {background-color: #d4ebff;}#sk-container-id-12 div.sk-parallel-item::after {content: \"\";width: 100%;border-bottom: 1px solid gray;flex-grow: 1;}#sk-container-id-12 div.sk-label:hover label.sk-toggleable__label {background-color: #d4ebff;}#sk-container-id-12 div.sk-serial::before {content: \"\";position: absolute;border-left: 1px solid gray;box-sizing: border-box;top: 0;bottom: 0;left: 50%;z-index: 0;}#sk-container-id-12 div.sk-serial {display: flex;flex-direction: column;align-items: center;background-color: white;padding-right: 0.2em;padding-left: 0.2em;position: relative;}#sk-container-id-12 div.sk-item {position: relative;z-index: 1;}#sk-container-id-12 div.sk-parallel {display: flex;align-items: stretch;justify-content: center;background-color: white;position: relative;}#sk-container-id-12 div.sk-item::before, #sk-container-id-12 div.sk-parallel-item::before {content: \"\";position: absolute;border-left: 1px solid gray;box-sizing: border-box;top: 0;bottom: 0;left: 50%;z-index: -1;}#sk-container-id-12 div.sk-parallel-item {display: flex;flex-direction: column;z-index: 1;position: relative;background-color: white;}#sk-container-id-12 div.sk-parallel-item:first-child::after {align-self: flex-end;width: 50%;}#sk-container-id-12 div.sk-parallel-item:last-child::after {align-self: flex-start;width: 50%;}#sk-container-id-12 div.sk-parallel-item:only-child::after {width: 0;}#sk-container-id-12 div.sk-dashed-wrapped {border: 1px dashed gray;margin: 0 0.4em 0.5em 0.4em;box-sizing: border-box;padding-bottom: 0.4em;background-color: white;}#sk-container-id-12 div.sk-label label {font-family: monospace;font-weight: bold;display: inline-block;line-height: 1.2em;}#sk-container-id-12 div.sk-label-container {text-align: center;}#sk-container-id-12 div.sk-container {/* jupyter's `normalize.less` sets `[hidden] { display: none; }` but bootstrap.min.css set `[hidden] { display: none !important; }` so we also need the `!important` here to be able to override the default hidden behavior on the sphinx rendered scikit-learn.org. See: https://github.com/scikit-learn/scikit-learn/issues/21755 */display: inline-block !important;position: relative;}#sk-container-id-12 div.sk-text-repr-fallback {display: none;}</style><div id=\"sk-container-id-12\" class=\"sk-top-container\"><div class=\"sk-text-repr-fallback\"><pre>PCA(n_components=5)</pre><b>In a Jupyter environment, please rerun this cell to show the HTML representation or trust the notebook. <br />On GitHub, the HTML representation is unable to render, please try loading this page with nbviewer.org.</b></div><div class=\"sk-container\" hidden><div class=\"sk-item\"><div class=\"sk-estimator sk-toggleable\"><input class=\"sk-toggleable__control sk-hidden--visually\" id=\"sk-estimator-id-12\" type=\"checkbox\" checked><label for=\"sk-estimator-id-12\" class=\"sk-toggleable__label sk-toggleable__label-arrow\">PCA</label><div class=\"sk-toggleable__content\"><pre>PCA(n_components=5)</pre></div></div></div></div></div>"
            ]
          },
          "metadata": {},
          "execution_count": 192
        }
      ]
    },
    {
      "cell_type": "code",
      "source": [
        "plt.plot(range(len(pca.explained_variance_)), pca.explained_variance_ratio_)\n",
        "plt.grid()\n",
        "plt.xlabel('Número de componentes principales')\n",
        "plt.ylabel('Porcentaje de varianza explicada')\n",
        "plt.show()"
      ],
      "metadata": {
        "colab": {
          "base_uri": "https://localhost:8080/",
          "height": 450
        },
        "id": "IXcRHG3p_mZa",
        "outputId": "c1c02be4-db93-48b2-be7a-8b0783642c0f"
      },
      "execution_count": null,
      "outputs": [
        {
          "output_type": "display_data",
          "data": {
            "text/plain": [
              "<Figure size 640x480 with 1 Axes>"
            ],
            "image/png": "[encoded data removed]"
          },
          "metadata": {}
        }
      ]
    },
    {
      "cell_type": "code",
      "source": [
        "x_entrenamiento_final = pca.transform(x_entrena)\n",
        "x_evaluacion_final = pca.transform(x_test)\n"
      ],
      "metadata": {
        "id": "_i93d2f1B6zj"
      },
      "execution_count": null,
      "outputs": []
    },
    {
      "cell_type": "code",
      "source": [
        "print(f'VERIFICACIÓN DE TAMAÑOS:')\n",
        "print(f'x de entrenamiento = {x_entrenamiento_final.shape}.')\n",
        "print(f'y de entrenamiento = {y_entrena.shape}')\n",
        "print(f'x de evaluación = {x_evaluacion_final.shape}.')\n",
        "print(f'y de evaluación = {y_test.shape}')\n"
      ],
      "metadata": {
        "colab": {
          "base_uri": "https://localhost:8080/"
        },
        "id": "fZJKu05xB6iX",
        "outputId": "31812c63-142d-44aa-f5c9-8cf0c67e4e6e"
      },
      "execution_count": null,
      "outputs": [
        {
          "output_type": "stream",
          "name": "stdout",
          "text": [
            "VERIFICACIÓN DE TAMAÑOS:\n",
            "x de entrenamiento = (2995, 577).\n",
            "y de entrenamiento = (2995,)\n",
            "x de evaluación = (749, 577).\n",
            "y de evaluación = (749,)\n"
          ]
        }
      ]
    },
    {
      "cell_type": "code",
      "source": [
        "x_entrena = x_entrenamiento_final\n",
        "x_test = x_evaluacion_final"
      ],
      "metadata": {
        "id": "lahvjvRLEfvW"
      },
      "execution_count": null,
      "outputs": []
    },
    {
      "cell_type": "markdown",
      "source": [
        "## Lista de algoritmos:\n",
        "\n",
        "- logistic regression\n",
        "- Decision tree\n",
        "- Cluster por kmeans\n",
        "- Redes neuronales\n",
        "- Naive bayes\n",
        "- KNN\n",
        "- SVM\n",
        "- Linear regresion\n"
      ],
      "metadata": {
        "id": "wohYM_rDNh0K"
      }
    },
    {
      "cell_type": "code",
      "source": [
        "algoritmos = ['logistic regression',\n",
        "              'Decision tree',\n",
        "              'Cluster por kmeans',\n",
        "              'Redes neuronales',\n",
        "              'Naive bayes',\n",
        "              'KNN',\n",
        "              'SVM',\n",
        "              'Linear regresion']\n",
        "\n",
        "etiquetas = ['Prueba', 'accuracy_score', 'roc']\n",
        "resultados = {}\n",
        "pruebas = {}\n",
        "\n",
        "# resultados[etiquetas[k]] = j\n",
        "# pruebas[algoritmos[j]] = resultados[etiquetas[k]]\n"
      ],
      "metadata": {
        "id": "8Ignze1oVUbo"
      },
      "execution_count": null,
      "outputs": []
    },
    {
      "cell_type": "code",
      "source": [
        "from sklearn.linear_model import LogisticRegression\n",
        "logistic = LogisticRegression(solver='lbfgs')\n",
        "logistic.fit(x_entrena, y_entrena)\n",
        "y_predict = logistic.predict(x_test)\n",
        "print('Realizando regresión logistica se obtiene una precisión de:')\n",
        "print(\"SCORE PCA: \", logistic.score(x_evaluacion_final, y_test))\n",
        "print(accuracy_score(y_test, y_predict))\n"
      ],
      "metadata": {
        "colab": {
          "base_uri": "https://localhost:8080/"
        },
        "id": "28v9hBUVCo2Z",
        "outputId": "447acaeb-40d2-4893-83a0-aec24218b616"
      },
      "execution_count": null,
      "outputs": [
        {
          "output_type": "stream",
          "name": "stdout",
          "text": [
            "Realizando regresión logistica se obtiene una precisión de:\n",
            "SCORE PCA:  0.45660881174899864\n",
            "0.45660881174899864\n"
          ]
        },
        {
          "output_type": "stream",
          "name": "stderr",
          "text": [
            "/usr/local/lib/python3.10/dist-packages/sklearn/linear_model/_logistic.py:458: ConvergenceWarning: lbfgs failed to converge (status=1):\n",
            "STOP: TOTAL NO. of ITERATIONS REACHED LIMIT.\n",
            "\n",
            "Increase the number of iterations (max_iter) or scale the data as shown in:\n",
            "    https://scikit-learn.org/stable/modules/preprocessing.html\n",
            "Please also refer to the documentation for alternative solver options:\n",
            "    https://scikit-learn.org/stable/modules/linear_model.html#logistic-regression\n",
            "  n_iter_i = _check_optimize_result(\n"
          ]
        }
      ]
    },
    {
      "cell_type": "code",
      "source": [
        "import pandas as pd\n",
        "import numpy as np\n",
        "import matplotlib.pyplot as plt\n",
        "# metricas:\n",
        "from sklearn import metrics\n",
        "from sklearn.metrics import accuracy_score\n",
        "from sklearn.metrics import ConfusionMatrixDisplay"
      ],
      "metadata": {
        "id": "Kc__3ipufmP5"
      },
      "execution_count": null,
      "outputs": []
    },
    {
      "cell_type": "markdown",
      "source": [
        "## Con árbol de decisión."
      ],
      "metadata": {
        "id": "ghoF_YcLCd4F"
      }
    },
    {
      "cell_type": "code",
      "source": [
        "from sklearn import tree\n",
        "print('Realizando árbol de decisión se obtiene una precisión de:')\n",
        "plt.figure()\n",
        "fpr, tpr, thresholds = metrics.roc_curve(y_test, y_test)\n",
        "roc_auc = metrics.auc(fpr, tpr)\n",
        "metrics.RocCurveDisplay(fpr=fpr, tpr=tpr, roc_auc=roc_auc,\n",
        "                                  estimator_name='roc ').plot(ax=plt.gca())\n",
        "print('max_depth, acuracy_score, roc_auc')\n",
        "acu = [0]  #*****************\n",
        "for i in range(1, 20):\n",
        "  clf = tree.DecisionTreeClassifier(max_depth=i,criterion='log_loss')\n",
        "  clf = clf.fit(x_entrena, y_entrena)\n",
        "  y_predict = clf.predict(x_test)\n",
        "  fpr, tpr, thresholds = metrics.roc_curve(y_test, y_predict)\n",
        "  roc_auc = metrics.auc(fpr, tpr)\n",
        "  metrics.RocCurveDisplay(fpr=fpr, tpr=tpr, roc_auc=roc_auc,\n",
        "                                  estimator_name='estimator '+str(i)).plot(ax=plt.gca())\n",
        "  acu.append(accuracy_score(y_test, y_predict))  #****************\n",
        "  print(f'{i}, {accuracy_score(y_test, y_predict)}, {roc_auc}')\n",
        "\n",
        "plt.legend(loc='center left', bbox_to_anchor=(1, 0.5))\n",
        "plt.subplots_adjust(right=0.75)\n",
        "plt.show()\n",
        "# MATRIZ DE CONFUSIÓN.\n",
        "mejor = acu.index(max(acu))  #**********\n",
        "classifier = tree.DecisionTreeClassifier(max_depth=mejor,criterion='log_loss').fit(x_entrena, y_entrena)\n",
        "disp = ConfusionMatrixDisplay.from_estimator(\n",
        "        classifier,\n",
        "        x_evaluacion_final,\n",
        "        y_test,\n",
        "        # display_labels=class_names,\n",
        "        cmap=plt.cm.Blues,\n",
        "        # normalize=normalize,\n",
        "    );\n",
        "\n"
      ],
      "metadata": {
        "id": "qMUEV0zifmRs",
        "colab": {
          "base_uri": "https://localhost:8080/",
          "height": 1000
        },
        "outputId": "4be6a374-b8f8-49ad-8d24-93087ff3eb01"
      },
      "execution_count": null,
      "outputs": [
        {
          "output_type": "stream",
          "name": "stdout",
          "text": [
            "Realizando árbol de decisión se obtiene una precisión de:\n",
            "max_depth, acuracy_score, roc_auc\n",
            "1, 0.8718291054739653, 0.5\n",
            "2, 0.8718291054739653, 0.5\n",
            "3, 0.8718291054739653, 0.5\n",
            "4, 0.8731642189586115, 0.5052083333333334\n",
            "5, 0.8691588785046729, 0.5029112429811129\n",
            "6, 0.8678237650200267, 0.5110308192955589\n",
            "7, 0.8544726301735648, 0.5122591245533434\n",
            "8, 0.8544726301735648, 0.5033738514548238\n",
            "9, 0.855807743658211, 0.5219100944359367\n",
            "10, 0.8210947930574098, 0.5108872511485452\n",
            "11, 0.8317757009345794, 0.5170128254211332\n",
            "12, 0.822429906542056, 0.5338661306789177\n",
            "13, 0.822429906542056, 0.5338661306789177\n",
            "14, 0.8104138851802403, 0.5225322230729964\n",
            "15, 0.8144192256341789, 0.5648130423685555\n",
            "16, 0.8050734312416555, 0.5416826186830016\n",
            "17, 0.8010680907877169, 0.5349428917815212\n",
            "18, 0.807743658210948, 0.5343287391526289\n",
            "19, 0.7970627503337784, 0.5370884379785604\n"
          ]
        },
        {
          "output_type": "display_data",
          "data": {
            "text/plain": [
              "<Figure size 640x480 with 1 Axes>"
            ],
            "image/png": "[encoded data removed]"
          },
          "metadata": {}
        },
        {
          "output_type": "display_data",
          "data": {
            "text/plain": [
              "<Figure size 640x480 with 2 Axes>"
            ],
            "image/png": "[encoded data removed]"
          },
          "metadata": {}
        }
      ]
    },
    {
      "cell_type": "markdown",
      "source": [
        "- Algoritmo árbol de decisión: Con max_depth entre 1 y 3 se obtiene acuracy de 0,8718."
      ],
      "metadata": {
        "id": "TjAbMcWbo-VP"
      }
    },
    {
      "cell_type": "markdown",
      "source": [
        "### Curva ROC.\n",
        "\n",
        "y_test  vrs.  y_predict"
      ],
      "metadata": {
        "id": "6dUiJWVmOcCa"
      }
    },
    {
      "cell_type": "code",
      "source": [
        "plt.figure()\n",
        "fpr, tpr, thresholds = metrics.roc_curve(y_predict, y_predict)\n",
        "roc_auc = metrics.auc(fpr, tpr)\n",
        "metrics.RocCurveDisplay(fpr=fpr, tpr=tpr, roc_auc=roc_auc,\n",
        "                                  estimator_name='example estimator1').plot(ax=plt.gca())\n",
        "fpr, tpr, thresholds = metrics.roc_curve(y_test, y_predict)\n",
        "roc_auc = metrics.auc(fpr, tpr)\n",
        "metrics.RocCurveDisplay(fpr=fpr, tpr=tpr, roc_auc=roc_auc,\n",
        "                                  estimator_name='example estimator').plot(ax=plt.gca())\n",
        "# display.plot()\n",
        "#display.plot(label='ROC curve (area = %0.2f)' % roc_auc)\n",
        "#plt.legend()\n",
        "plt.show()"
      ],
      "metadata": {
        "id": "_OrHRWRUUTvF",
        "colab": {
          "base_uri": "https://localhost:8080/",
          "height": 449
        },
        "outputId": "b177da42-5bc5-4fd5-9ea4-7c36aa378297"
      },
      "execution_count": null,
      "outputs": [
        {
          "output_type": "display_data",
          "data": {
            "text/plain": [
              "<Figure size 640x480 with 1 Axes>"
            ],
            "image/png": "[encoded data removed]"
          },
          "metadata": {}
        }
      ]
    },
    {
      "cell_type": "markdown",
      "source": [
        "## Cluster por kmeans"
      ],
      "metadata": {
        "id": "cLj2r-DWCi0q"
      }
    },
    {
      "cell_type": "code",
      "source": [
        "from sklearn.cluster import KMeans"
      ],
      "metadata": {
        "id": "aFnjUjMJfmWm"
      },
      "execution_count": null,
      "outputs": []
    },
    {
      "cell_type": "code",
      "source": [
        "print('Realizando clustering por k medias (kmeans) se obtiene una precisión de:')\n",
        "plt.figure()\n",
        "fpr, tpr, thresholds = metrics.roc_curve(y_test, y_test)\n",
        "roc_auc = metrics.auc(fpr, tpr)\n",
        "metrics.RocCurveDisplay(fpr=fpr, tpr=tpr, roc_auc=roc_auc,\n",
        "                                  estimator_name='roc ').plot(ax=plt.gca())\n",
        "print('max_depth, acuracy_score, roc_auc')\n",
        "acu = [0]  #*****************\n",
        "for i in range(1, 7):\n",
        "  estim = KMeans(n_clusters=i, verbose=0, n_init=10)\n",
        "  estim.fit(x_entrena)\n",
        "  y_predict = estim.predict(x_test)\n",
        "  fpr, tpr, thresholds = metrics.roc_curve(y_test, y_predict)\n",
        "  roc_auc = metrics.auc(fpr, tpr)\n",
        "  metrics.RocCurveDisplay(fpr=fpr, tpr=tpr, roc_auc=roc_auc,\n",
        "                                  estimator_name='clusters:'+str(i)).plot(ax=plt.gca())\n",
        "  acu.append(accuracy_score(y_test, y_predict))  #****************\n",
        "  print(f'{i}, {accuracy_score(y_test, y_predict)}, {roc_auc}')\n",
        "\n",
        "plt.legend(loc='center left', bbox_to_anchor=(1, 0.5))\n",
        "plt.subplots_adjust(right=0.75)\n",
        "plt.show()\n"
      ],
      "metadata": {
        "id": "x9U4vnK1UTpZ",
        "colab": {
          "base_uri": "https://localhost:8080/",
          "height": 588
        },
        "outputId": "07bf6eb3-b3fc-4cbe-d1f2-764317df48cc"
      },
      "execution_count": null,
      "outputs": [
        {
          "output_type": "stream",
          "name": "stdout",
          "text": [
            "Realizando clustering por k medias (kmeans) se obtiene una precisión de:\n",
            "max_depth, acuracy_score, roc_auc\n",
            "1, 0.8718291054739653, 0.5\n",
            "2, 0.8651535380507344, 0.5006141526288923\n",
            "3, 0.8170894526034713, 0.5042432363450741\n",
            "4, 0.7690253671562083, 0.4959721158754466\n",
            "5, 0.6141522029372497, 0.43824974476773865\n",
            "6, 0.24299065420560748, 0.5403187212863706\n"
          ]
        },
        {
          "output_type": "display_data",
          "data": {
            "text/plain": [
              "<Figure size 640x480 with 1 Axes>"
            ],
            "image/png": "[encoded data removed]"
          },
          "metadata": {}
        }
      ]
    },
    {
      "cell_type": "markdown",
      "source": [
        "## Redes neuronales"
      ],
      "metadata": {
        "id": "mxVKjJkRXk1o"
      }
    },
    {
      "cell_type": "code",
      "source": [
        "from sklearn.neural_network import MLPClassifier\n",
        "print('Realizando redes neuronales por MLPClassifier con hidden_layer_sizes=(4, 2) se obtiene una precisión de:')\n",
        "plt.figure()\n",
        "fpr, tpr, thresholds = metrics.roc_curve(y_test, y_test)\n",
        "roc_auc = metrics.auc(fpr, tpr)\n",
        "metrics.RocCurveDisplay(fpr=fpr, tpr=tpr, roc_auc=roc_auc,\n",
        "                                  estimator_name='roc ').plot(ax=plt.gca())\n",
        "print('acuracy_score, roc_auc')\n",
        "clf = MLPClassifier(solver='lbfgs', alpha=1e-5,\n",
        "                    hidden_layer_sizes=(4, 2), random_state=1)\n",
        "\n",
        "clf.fit(x_entrena, y_entrena)\n",
        "y_predict = clf.predict(x_test)\n",
        "fpr, tpr, thresholds = metrics.roc_curve(y_test, y_predict)\n",
        "roc_auc = metrics.auc(fpr, tpr)\n",
        "metrics.RocCurveDisplay(fpr=fpr, tpr=tpr, roc_auc=roc_auc,\n",
        "                                estimator_name='estimator '+str(i)).plot(ax=plt.gca())\n",
        "print(f'{accuracy_score(y_test, y_predict)}, {roc_auc}')\n",
        "\n",
        "plt.legend(loc='center left', bbox_to_anchor=(1, 0.5))\n",
        "plt.subplots_adjust(right=0.75)\n",
        "plt.show()\n",
        "# MATRIZ DE CONFUSIÓN.\n",
        "mejor = acu.index(max(acu))  #**********\n",
        "classifier = tree.DecisionTreeClassifier(max_depth=mejor,criterion='log_loss').fit(x_entrena, y_entrena)\n",
        "disp = ConfusionMatrixDisplay.from_estimator(\n",
        "        classifier,\n",
        "        x_evaluacion_final,\n",
        "        y_test,\n",
        "        # display_labels=class_names,\n",
        "        cmap=plt.cm.Blues,\n",
        "        # normalize=normalize,\n",
        "    );\n"
      ],
      "metadata": {
        "id": "70wwG5gtUTwx",
        "colab": {
          "base_uri": "https://localhost:8080/",
          "height": 1000
        },
        "outputId": "923d2f57-0893-4c41-b43d-f4dfeb49ca58"
      },
      "execution_count": null,
      "outputs": [
        {
          "output_type": "stream",
          "name": "stdout",
          "text": [
            "Realizando redes neuronales por MLPClassifier con hidden_layer_sizes=(4, 2) se obtiene una precisión de:\n",
            "acuracy_score, roc_auc\n"
          ]
        },
        {
          "output_type": "stream",
          "name": "stderr",
          "text": [
            "/usr/local/lib/python3.10/dist-packages/sklearn/neural_network/_multilayer_perceptron.py:541: ConvergenceWarning: lbfgs failed to converge (status=2):\n",
            "ABNORMAL_TERMINATION_IN_LNSRCH.\n",
            "\n",
            "Increase the number of iterations (max_iter) or scale the data as shown in:\n",
            "    https://scikit-learn.org/stable/modules/preprocessing.html\n",
            "  self.n_iter_ = _check_optimize_result(\"lbfgs\", opt_res, self.max_iter)\n"
          ]
        },
        {
          "output_type": "stream",
          "name": "stdout",
          "text": [
            "0.6902536715620827, 0.4447342394078611\n"
          ]
        },
        {
          "output_type": "display_data",
          "data": {
            "text/plain": [
              "<Figure size 640x480 with 1 Axes>"
            ],
            "image/png": "[encoded data removed]"
          },
          "metadata": {}
        },
        {
          "output_type": "display_data",
          "data": {
            "text/plain": [
              "<Figure size 640x480 with 2 Axes>"
            ],
            "image/png": "[encoded data removed]"
          },
          "metadata": {}
        }
      ]
    },
    {
      "cell_type": "code",
      "source": [
        "opc = input('Pasando por una primera etapa de árbol de decisión y una segunda etapa de MLPClassifier, se obtien').lower()\n",
        "if opc == 'e':\n",
        "  print('max_depth, acuracy_score, roc_auc')\n",
        "  y_p = pd.DataFrame()\n",
        "  for i in range(2, 22):\n",
        "    clf = tree.DecisionTreeClassifier(max_depth=i,criterion='log_loss')\n",
        "    clf = clf.fit(x_entrena, y_entrena)\n",
        "    y_predict = clf.predict(x_entrena)\n",
        "    y_p = pd.concat([y_p, pd.DataFrame(y_predict)], axis=1)\n",
        "#    fpr, tpr, thresholds = metrics.roc_curve(y_entrena, y_predict)\n",
        "#    roc_auc = metrics.auc(fpr, tpr)\n",
        "#    print(f'{i}  ->   {accuracy_score(y_entrena, y_predict)} -> {roc_auc}')\n",
        "\n",
        "# y_p -> es x de entrada a MLPClas...\n",
        "\n",
        "mlpc = MLPClassifier(solver='lbfgs', alpha=1e-5,\n",
        "                    hidden_layer_sizes=(10, 5), random_state=1)\n",
        "\n",
        "mlpc.fit(y_p, y_entrena)\n",
        "#******\n",
        "y_p = pd.DataFrame()\n",
        "for i in range(2, 22):\n",
        "  y_predict = clf.predict(x_test)\n",
        "  y_p = pd.concat([y_p, pd.DataFrame(y_predict)], axis=1)\n",
        "\n",
        "y_predict_total = mlpc.predict(y_p)\n",
        "fpr, tpr, thresholds = metrics.roc_curve(y_test, y_predict_total)\n",
        "roc_auc = metrics.auc(fpr, tpr)\n",
        "print(f'{accuracy_score(y_test, y_predict_total)}, {roc_auc}')"
      ],
      "metadata": {
        "colab": {
          "base_uri": "https://localhost:8080/"
        },
        "id": "gVHOf8SfWvOf",
        "outputId": "41363dbd-9af3-42c6-cff7-cb435ef22330"
      },
      "execution_count": null,
      "outputs": [
        {
          "output_type": "stream",
          "name": "stdout",
          "text": [
            "Pasando por una primera etapa de árbol de decisión y una segunda etapa de MLPClassifier, se obtiene\n",
            "max_depth, acuracy_score, roc_auc\n",
            "0.8184245660881175, 0.5137984941296581\n"
          ]
        }
      ]
    },
    {
      "cell_type": "markdown",
      "source": [
        "## Naive bayes"
      ],
      "metadata": {
        "id": "RFAzxGqdO_yc"
      }
    },
    {
      "cell_type": "code",
      "source": [
        "from sklearn.naive_bayes import BernoulliNB\n",
        "\n",
        "print('Realizando Naive Bayes se obtiene una precisión de:')\n",
        "plt.figure()\n",
        "fpr, tpr, thresholds = metrics.roc_curve(y_test, y_test)\n",
        "roc_auc = metrics.auc(fpr, tpr)\n",
        "metrics.RocCurveDisplay(fpr=fpr, tpr=tpr, roc_auc=roc_auc,\n",
        "                                  estimator_name='roc ').plot(ax=plt.gca())\n",
        "print('acuracy_score, roc_auc')\n",
        "\n",
        "gnb = BernoulliNB()\n",
        "gnb.fit(x_entrena, y_entrena)\n",
        "y_predict = gnb.predict(x_test)\n",
        "fpr, tpr, thresholds = metrics.roc_curve(y_test, y_predict)\n",
        "roc_auc = metrics.auc(fpr, tpr)\n",
        "metrics.RocCurveDisplay(fpr=fpr, tpr=tpr, roc_auc=roc_auc,\n",
        "                                  estimator_name='roc ').plot(ax=plt.gca())\n",
        "print(f'{accuracy_score(y_test, y_predict)}, {roc_auc}')\n",
        "\n",
        "plt.legend(loc='center left', bbox_to_anchor=(1, 0.5))\n",
        "plt.subplots_adjust(right=0.75)\n",
        "plt.show()\n",
        "# MATRIZ DE CONFUSIÓN.\n",
        "mejor = acu.index(max(acu))  #**********\n",
        "classifier = BernoulliNB().fit(x_entrena, y_entrena)\n",
        "disp = ConfusionMatrixDisplay.from_estimator(\n",
        "        classifier,\n",
        "        x_evaluacion_final,\n",
        "        y_test,\n",
        "        # display_labels=class_names,\n",
        "        cmap=plt.cm.Blues,\n",
        "        # normalize=normalize,\n",
        "    );\n"
      ],
      "metadata": {
        "colab": {
          "base_uri": "https://localhost:8080/",
          "height": 933
        },
        "id": "fSBzEJDqXRka",
        "outputId": "c9f214cc-010e-4ff1-8ee9-2de8a5fa877a"
      },
      "execution_count": null,
      "outputs": [
        {
          "output_type": "stream",
          "name": "stdout",
          "text": [
            "Realizando Naive Bayes se obtiene una precisión de:\n",
            "acuracy_score, roc_auc\n",
            "0.8718291054739653, 0.5\n"
          ]
        },
        {
          "output_type": "display_data",
          "data": {
            "text/plain": [
              "<Figure size 640x480 with 1 Axes>"
            ],
            "image/png": "[encoded data removed]"
          },
          "metadata": {}
        },
        {
          "output_type": "display_data",
          "data": {
            "text/plain": [
              "<Figure size 640x480 with 2 Axes>"
            ],
            "image/png": "[encoded data removed]"
          },
          "metadata": {}
        }
      ]
    },
    {
      "cell_type": "markdown",
      "source": [
        "## KNN"
      ],
      "metadata": {
        "id": "qrq4ISb2PFze"
      }
    },
    {
      "cell_type": "code",
      "source": [
        "from sklearn.neighbors import KNeighborsClassifier\n",
        "\n",
        "for i in range(1, 20):\n",
        "  knn = KNeighborsClassifier(n_neighbors=i)\n",
        "  knn.fit(x_entrena, y_entrena)\n",
        "  y_predict = knn.predict(x_test)\n",
        "  fpr, tpr, thresholds = metrics.roc_curve(y_test, y_predict)\n",
        "  roc_auc = metrics.auc(fpr, tpr)\n",
        "  print(f'{i}  ->   {accuracy_score(y_test, y_predict)} -> {roc_auc}')\n",
        "\n",
        "# MATRIZ DE CONFUSIÓN.\n",
        "mejor = 6  #**********\n",
        "classifier = tree.DecisionTreeClassifier(max_depth=mejor,criterion='log_loss').fit(x_entrena, y_entrena)\n",
        "disp = ConfusionMatrixDisplay.from_estimator(\n",
        "        classifier,\n",
        "        x_evaluacion_final,\n",
        "        y_test,\n",
        "        # display_labels=class_names,\n",
        "        cmap=plt.cm.Blues,\n",
        "        # normalize=normalize,\n",
        "    );\n",
        "\n"
      ],
      "metadata": {
        "id": "G_NNCSCNK-Tg",
        "colab": {
          "base_uri": "https://localhost:8080/",
          "height": 779
        },
        "outputId": "13370a1c-b427-4797-d515-a3d3d05ca54f"
      },
      "execution_count": null,
      "outputs": [
        {
          "output_type": "stream",
          "name": "stdout",
          "text": [
            "1  ->   0.7797062750333779 -> 0.47826537774374683\n",
            "2  ->   0.8544726301735648 -> 0.498931214905564\n",
            "3  ->   0.8371161548731643 -> 0.5111903394589077\n",
            "4  ->   0.8664886515353805 -> 0.5013798494129659\n",
            "5  ->   0.8598130841121495 -> 0.4975513654925983\n",
            "6  ->   0.8704939919893191 -> 0.4992343032159265\n",
            "7  ->   0.8678237650200267 -> 0.49770290964777947\n",
            "8  ->   0.8718291054739653 -> 0.5\n",
            "9  ->   0.8704939919893191 -> 0.4992343032159265\n",
            "10  ->   0.8704939919893191 -> 0.4992343032159265\n",
            "11  ->   0.8704939919893191 -> 0.4992343032159265\n",
            "12  ->   0.8718291054739653 -> 0.5\n",
            "13  ->   0.8718291054739653 -> 0.5\n",
            "14  ->   0.8718291054739653 -> 0.5\n",
            "15  ->   0.8718291054739653 -> 0.5\n",
            "16  ->   0.8718291054739653 -> 0.5\n",
            "17  ->   0.8718291054739653 -> 0.5\n",
            "18  ->   0.8718291054739653 -> 0.5\n",
            "19  ->   0.8718291054739653 -> 0.5\n"
          ]
        },
        {
          "output_type": "display_data",
          "data": {
            "text/plain": [
              "<Figure size 640x480 with 2 Axes>"
            ],
            "image/png": "[encoded data removed]"
          },
          "metadata": {}
        }
      ]
    },
    {
      "cell_type": "markdown",
      "source": [
        "## SVM\n",
        "\n",
        "No se implementa por su costo computacional."
      ],
      "metadata": {
        "id": "27jZ8GCXPIS-"
      }
    },
    {
      "cell_type": "code",
      "source": [
        "\"\"\"\n",
        "\n",
        "from sklearn import svm\n",
        "\n",
        "for i in range(1, 20):\n",
        "  clf = svm.SVC(kernel='linear', C=i)\n",
        "  clf.fit(x_entrena, y_entrena)\n",
        "  y_predict = clf.predict(x_test)\n",
        "  fpr, tpr, thresholds = metrics.roc_curve(y_test, y_predict)\n",
        "  roc_auc = metrics.auc(fpr, tpr)\n",
        "  print(f'{i}  ->   {accuracy_score(y_test, y_predict)} -> {roc_auc}')\n",
        "\n",
        "\"\"\"\n",
        "''"
      ],
      "metadata": {
        "id": "lQ_nZbMaPPfL",
        "colab": {
          "base_uri": "https://localhost:8080/",
          "height": 35
        },
        "outputId": "8422e32f-ba76-484b-86f5-71e8e42bac9a"
      },
      "execution_count": null,
      "outputs": [
        {
          "output_type": "execute_result",
          "data": {
            "text/plain": [
              "''"
            ],
            "application/vnd.google.colaboratory.intrinsic+json": {
              "type": "string"
            }
          },
          "metadata": {},
          "execution_count": 99
        }
      ]
    },
    {
      "cell_type": "markdown",
      "source": [
        "## Linear regresion"
      ],
      "metadata": {
        "id": "bGGCZURVPPzh"
      }
    },
    {
      "cell_type": "code",
      "source": [
        "from sklearn import linear_model\n",
        "\n",
        "\n",
        "reg = linear_model.RidgeCV(alphas=[0.1, 1.0, 10.0], cv=5)\n",
        "reg.fit(x_entrena, y_entrena)\n",
        "y_predict = clf.predict(x_test)\n",
        "fpr, tpr, thresholds = metrics.roc_curve(y_test, y_predict)\n",
        "roc_auc = metrics.auc(fpr, tpr)\n",
        "print(f'{1}  ->   {accuracy_score(y_test, y_predict)} -> {roc_auc}')"
      ],
      "metadata": {
        "id": "Fa5NH_DMPSam",
        "colab": {
          "base_uri": "https://localhost:8080/"
        },
        "outputId": "3a6b6de9-4fed-43f5-aab7-802913cc0102"
      },
      "execution_count": null,
      "outputs": [
        {
          "output_type": "stream",
          "name": "stdout",
          "text": [
            "1  ->   0.8251001335113485 -> 0.5131843415007658\n"
          ]
        }
      ]
    },
    {
      "cell_type": "markdown",
      "source": [
        "## Ejemplo ROC"
      ],
      "metadata": {
        "id": "lSj_JABrPTMB"
      }
    },
    {
      "cell_type": "code",
      "source": [
        "y1 = pd.Series([0, 1, 0, 0, 1, 1, 0])\n",
        "y2 = pd.Series([3.2, 4, 2.2, 2.3, 3.3, 3.1, 2.3])\n",
        "\n",
        "fpr, tpr, thresholds = metrics.roc_curve(y1, y2)\n",
        "roc_auc = metrics.auc(fpr, tpr)\n",
        "display = metrics.RocCurveDisplay(fpr=fpr, tpr=tpr, roc_auc=roc_auc,\n",
        "                                  estimator_name='example estimator')\n",
        "display.plot();\n"
      ],
      "metadata": {
        "colab": {
          "base_uri": "https://localhost:8080/",
          "height": 449
        },
        "id": "uBgNonprK-Yo",
        "outputId": "eddd0e14-6623-4b49-ef7b-d0dd512932a5"
      },
      "execution_count": null,
      "outputs": [
        {
          "output_type": "display_data",
          "data": {
            "text/plain": [
              "<Figure size 640x480 with 1 Axes>"
            ],
            "image/png": "[encoded data removed]"
          },
          "metadata": {}
        }
      ]
    },
    {
      "cell_type": "code",
      "source": [
        "from sklearn.metrics import ConfusionMatrixDisplay\n",
        "\n",
        "classifier = tree.DecisionTreeClassifier(max_depth=3,criterion='log_loss').fit(x_entrena, y_entrena)\n",
        "disp = ConfusionMatrixDisplay.from_estimator(\n",
        "        classifier,\n",
        "        x_evaluacion_final,\n",
        "        y_test,\n",
        "        # display_labels=class_names,\n",
        "        cmap=plt.cm.Blues,\n",
        "        # normalize=normalize,\n",
        "    );"
      ],
      "metadata": {
        "id": "RsGX8DuOmrB0",
        "colab": {
          "base_uri": "https://localhost:8080/",
          "height": 449
        },
        "outputId": "636ced4d-02be-4561-e5c0-5528480ff89a"
      },
      "execution_count": null,
      "outputs": [
        {
          "output_type": "display_data",
          "data": {
            "text/plain": [
              "<Figure size 640x480 with 2 Axes>"
            ],
            "image/png": "[encoded data removed]"
          },
          "metadata": {}
        }
      ]
    },
    {
      "cell_type": "code",
      "source": [],
      "metadata": {
        "id": "yPdbrEI7pZ5Z"
      },
      "execution_count": null,
      "outputs": []
    },
    {
      "cell_type": "code",
      "source": [
        "# Arbol decisión max_depth = 1-3:\n",
        "i = 2\n",
        "clf = tree.DecisionTreeClassifier(max_depth=i,criterion='log_loss')\n",
        "clf = clf.fit(x_entrena, y_entrena)\n",
        "y_predict = clf.predict(x_test)"
      ],
      "metadata": {
        "id": "KtbdH9wMpZ0V"
      },
      "execution_count": null,
      "outputs": []
    },
    {
      "cell_type": "code",
      "source": [],
      "metadata": {
        "id": "V3ppBbFVpZuL"
      },
      "execution_count": null,
      "outputs": []
    }
  ]
}